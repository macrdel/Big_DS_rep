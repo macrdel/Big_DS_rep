{
 "cells": [
  {
   "cell_type": "markdown",
   "metadata": {},
   "source": [
    "# Отчёт по лабораторной работе №3"
   ]
  },
  {
   "cell_type": "markdown",
   "metadata": {},
   "source": [
    "## А-13а-19 Кутдусов Руслан  Номер по журналу 11"
   ]
  },
  {
   "cell_type": "markdown",
   "metadata": {},
   "source": [
    "### Задача 3.1."
   ]
  },
  {
   "cell_type": "markdown",
   "metadata": {},
   "source": [
    "#### Постановка:"
   ]
  },
  {
   "cell_type": "markdown",
   "metadata": {},
   "source": [
    "Реализовать решение СЛАУ с помощью LU разложения, которое $\\textbf{реализовано в виде двух функций, одна из которых возвращает \n",
    "две матрицы – L и U, не модифицируя A, а вторая функция решает систему,}$ и с помощью LU разложения по схеме частичного выбора, которое $\\textbf{модифицирует исходную матрицу А}$. Решить систему небольшой размерности с возмущенной матрицей обоими методами, оценить погрешность и сравнить с теоретической оценкой. Проанализировать поведение методов с ростом числа уравнений."
   ]
  },
  {
   "cell_type": "markdown",
   "metadata": {},
   "source": [
    "$ A_{i,j} = \\sin^{20 - j}{(i+1)}$"
   ]
  },
  {
   "cell_type": "code",
   "execution_count": 1,
   "metadata": {},
   "outputs": [],
   "source": [
    "import numpy as np\n",
    "from scipy import linalg"
   ]
  },
  {
   "cell_type": "code",
   "execution_count": 2,
   "metadata": {},
   "outputs": [],
   "source": [
    "#элемент матрицы A\n",
    "def aij (i, j):\n",
    "    return np.sin(i+1) ** (20 - j)"
   ]
  },
  {
   "cell_type": "code",
   "execution_count": 3,
   "metadata": {},
   "outputs": [],
   "source": [
    "#заполнение матрицы\n",
    "def matrix_creation (n):\n",
    "    return np.array([[aij(i, j) for i in range(n)] for j in range(n)])"
   ]
  },
  {
   "cell_type": "code",
   "execution_count": 4,
   "metadata": {},
   "outputs": [],
   "source": [
    "#создание матриц L и U\n",
    "def LU (A): \n",
    "    n = A.shape[0]\n",
    "    LU = np.matrix(np.zeros((n, n)))\n",
    "    for t in range(n):\n",
    "        for j in range(t, n):\n",
    "            LU[t, j] = A[t, j] - LU[t, :t] * LU[:t, j]\n",
    "        for i in range(t + 1, n):\n",
    "            LU[i, t] = (A[i, t] - LU[i, :t] * LU[:t, t]) / LU[t, t]\n",
    "     \n",
    "    L = LU.copy()\n",
    "    U = LU.copy()\n",
    "    for i in range(n):\n",
    "        L[i, i] = 1\n",
    "        L[i, i + 1 :] = 0\n",
    "    for j in range(1, n):\n",
    "        U[j, :j] = 0\n",
    "        \n",
    "    return L, U"
   ]
  },
  {
   "cell_type": "code",
   "execution_count": 5,
   "metadata": {},
   "outputs": [],
   "source": [
    "#решение системы\n",
    "def solve_LU (L, U, b):\n",
    "    n = L.shape[0]\n",
    "    y = np.zeros((n, 1))\n",
    "    for i in range(n):\n",
    "        y[i] = b[i] - L[i, :i] * y[:i]\n",
    "    \n",
    "    x = np.zeros((n, 1))\n",
    "    for i in range(1, n + 1):\n",
    "        x[-i] = (y[-i] - U[-i, -i:] * x[-i:]) / U[-i, -i]        \n",
    "    \n",
    "    return x"
   ]
  },
  {
   "cell_type": "code",
   "execution_count": 6,
   "metadata": {},
   "outputs": [
    {
     "name": "stdout",
     "output_type": "stream",
     "text": [
      "x =  [-1.  1.  1.]\n"
     ]
    }
   ],
   "source": [
    "#проверка \n",
    "A = np.matrix([[1, 2, 9] , [0, 5, 6], [1, 8, 5]])\n",
    "b = np.array([10, 11, 12])\n",
    "print(\"x = \", linalg.solve(A, b)) #встроенная scipy функция"
   ]
  },
  {
   "cell_type": "code",
   "execution_count": 7,
   "metadata": {},
   "outputs": [
    {
     "name": "stdout",
     "output_type": "stream",
     "text": [
      "[[1. 2. 9.]\n",
      " [0. 5. 6.]\n",
      " [1. 8. 5.]]\n",
      "Mtx L  [[1.  0.  0. ]\n",
      " [0.  1.  0. ]\n",
      " [1.  1.2 1. ]] \n",
      " Mtx U  [[  1.    2.    9. ]\n",
      " [  0.    5.    6. ]\n",
      " [  0.    0.  -11.2]]\n",
      "x =  [-1.  1.  1.]\n"
     ]
    }
   ],
   "source": [
    "L, U = LU(A)\n",
    "print(L @ U)\n",
    "print(\"Mtx L \", L, '\\n', \"Mtx U \", U)\n",
    "print(\"x = \", solve_LU(L, U, b).reshape(3)) # наша функция"
   ]
  },
  {
   "cell_type": "code",
   "execution_count": 8,
   "metadata": {},
   "outputs": [],
   "source": [
    "#поиск максимума в столбце на k-ом шаге - перестановка строк\n",
    "def modif_mtx (A, P, col):\n",
    "    max_el = A[col, col]\n",
    "    ind = col\n",
    "    for i in range(col + 1, A.shape[0]):\n",
    "        if abs(A[i, col]) > abs(max_el):\n",
    "            max_el = A[i, col]\n",
    "            ind = i\n",
    "    if ind != col:\n",
    "        A[[col, ind]] = A[[ind, col]]\n",
    "        P[[col, ind]] = P[[ind, col]]\n",
    "    return"
   ]
  },
  {
   "cell_type": "code",
   "execution_count": 11,
   "metadata": {},
   "outputs": [],
   "source": [
    "#матрица A в методе с частичным выбором модифицируется\n",
    "def LU_m (A, b):\n",
    "    n = A.shape[0]\n",
    "    P = np.eye(n)\n",
    "    U = np.float64(A)\n",
    "    for k in range(n - 1):\n",
    "        P_ = np.eye(n)       #матрица перестановок на K-ом шаге\n",
    "        modif_mtx(U, P_, k)  #перестановка строк в матрице A и в P_\n",
    "        for i in range(k + 1, n):\n",
    "            div = U[i, k] / U[k, k]\n",
    "            U[i, k] = div\n",
    "            if div != 0:\n",
    "                for j in range(k + 1, n):\n",
    "                    U[i, j] -= div * U[k, j]\n",
    "        P = P_ @ P #вычисление итоговой\n",
    "    \n",
    "    L = U.copy()\n",
    "    for i in range(n):\n",
    "        L[i, i] = 1\n",
    "        L[i, i + 1 :] = 0\n",
    "    for j in range(1, n):\n",
    "        U[j, :j] = 0\n",
    "    \n",
    "    b = P @ b\n",
    "    y = np.zeros(n)\n",
    "    x = np.zeros(n)\n",
    "        \n",
    "    for i in range(n):\n",
    "         y[i] = b[i] - np.sum([L[i, j] * y[j] for j in range(i)])\n",
    "    for i in range(n-1, -1, -1):\n",
    "        x[i] = (y[i] - np.sum([x[j] * U[i, j] for j in range(n-1, i-1, -1)])) / U[i, i]\n",
    "        \n",
    "    return P, L, U, x"
   ]
  },
  {
   "cell_type": "code",
   "execution_count": 12,
   "metadata": {},
   "outputs": [
    {
     "name": "stdout",
     "output_type": "stream",
     "text": [
      "[[ 4.16798348e-02  1.49320433e-01  9.81232336e-18  3.79884091e-03\n",
      "   4.32201484e-01]\n",
      " [ 3.76481607e-02  1.64215172e-01  6.95317659e-17 -5.01959354e-03\n",
      "  -4.50714927e-01]\n",
      " [ 4.47408899e-02  1.80595664e-01  4.92713732e-16  6.63263344e-03\n",
      "   4.70021397e-01]\n",
      " [ 5.31698546e-02  1.98610112e-01  3.49145199e-15 -8.76402163e-03\n",
      "  -4.90154863e-01]\n",
      " [ 6.31867950e-02  2.18421504e-01  2.47410132e-14  1.15803287e-02\n",
      "   5.11150751e-01]]\n"
     ]
    }
   ],
   "source": [
    "#матрицу и вектор b\n",
    "A_def = matrix_creation(5)\n",
    "#Х точное\n",
    "x_def = np.array([21] * 5)\n",
    "#b точное\n",
    "b_def = A_def @ x_def\n",
    "#b возмущённое\n",
    "b = b_def.copy()\n",
    "#A возмущенное\n",
    "A = np.copy(A_def)\n",
    "A[0][0] += 10e-03\n",
    "print(A)"
   ]
  },
  {
   "cell_type": "code",
   "execution_count": 14,
   "metadata": {},
   "outputs": [
    {
     "name": "stdout",
     "output_type": "stream",
     "text": [
      "[-9.52795999e+03  2.43492387e+03  5.88131062e+15 -1.81334360e+04\n",
      "  2.88838660e+02]\n",
      "[-9.52795999e+03  2.43492387e+03  5.88131062e+15 -1.81334360e+04\n",
      "  2.88838660e+02]\n",
      "[-9.52795999e+03  2.43492387e+03  5.88131062e+15 -1.81334360e+04\n",
      "  2.88838660e+02]\n"
     ]
    }
   ],
   "source": [
    "L1, U1 = LU(A)\n",
    "x1 = solve_LU(L1, U1, b).reshape(5)\n",
    "L2, U2, P2, x2 = LU_m(A, b)\n",
    "print(x1)\n",
    "print(x2)\n",
    "print(linalg.solve(A, b))"
   ]
  },
  {
   "cell_type": "code",
   "execution_count": 15,
   "metadata": {},
   "outputs": [],
   "source": [
    "def delta_x(x, x_def):\n",
    "    return linalg.norm(x - x_def, ord = 2) / linalg.norm(x, ord = 2)"
   ]
  },
  {
   "cell_type": "code",
   "execution_count": 16,
   "metadata": {},
   "outputs": [
    {
     "name": "stdout",
     "output_type": "stream",
     "text": [
      "507616905909556.0\n",
      "188377145146.87766\n",
      "0.9999999999999964\n"
     ]
    }
   ],
   "source": [
    "b[0] += 10e-03\n",
    "th = np.linalg.cond(A) * delta_x(b, b_def)\n",
    "print(np.linalg.cond(A))\n",
    "print(th)\n",
    "print(delta_x(x2, x_def))"
   ]
  },
  {
   "cell_type": "code",
   "execution_count": 17,
   "metadata": {},
   "outputs": [],
   "source": [
    "#массивы с погрешностями\n",
    "delta_x1 = []\n",
    "delta_x2 = []\n",
    "\n",
    "for i in range(5, 17):\n",
    "    A_def = matrix_creation(i)\n",
    "    x_def = np.array([21] * i)\n",
    "    b = A_def @ x_def\n",
    "    A = np.copy(A_def)\n",
    "    A[0][0] += 1e-3 \n",
    "    L1, U1 = LU(A)\n",
    "    x1 = solve_LU(L1, U1, b).reshape(i)\n",
    "    L2, U2, P2, x2 = LU_m(A, b)\n",
    "    delta_x1.append(delta_x(x1,x_def))\n",
    "    delta_x2.append(delta_x(x2,x_def))"
   ]
  },
  {
   "cell_type": "code",
   "execution_count": 18,
   "metadata": {},
   "outputs": [],
   "source": [
    "from matplotlib import pyplot as plt"
   ]
  },
  {
   "cell_type": "code",
   "execution_count": 19,
   "metadata": {
    "scrolled": true
   },
   "outputs": [
    {
     "data": {
      "text/plain": [
       "<matplotlib.legend.Legend at 0x221f05407c0>"
      ]
     },
     "execution_count": 19,
     "metadata": {},
     "output_type": "execute_result"
    },
    {
     "data": {
      "image/png": "[encoded data removed]",
      "text/plain": [
       "<Figure size 1080x360 with 2 Axes>"
      ]
     },
     "metadata": {
      "needs_background": "light"
     },
     "output_type": "display_data"
    }
   ],
   "source": [
    "fig, axs = plt.subplots(1,2, figsize = (15,5))\n",
    "axs[0].plot(range(5,17), delta_x1, color = 'blue', ls = 'solid',label = 'Стандартное разложение')\n",
    "axs[1].plot(range(5,17), delta_x2, color = 'red', ls = 'dashdot',label = 'Частичный выбор')\n",
    "axs[0].legend()\n",
    "axs[1].legend()"
   ]
  },
  {
   "cell_type": "code",
   "execution_count": 20,
   "metadata": {},
   "outputs": [],
   "source": [
    "def solve_mysys (t1, t2, b):\n",
    "    x = np.zeros(70)\n",
    "    x[64] = b[5] / t1\n",
    "    for i in range(70):\n",
    "        if i != 64:\n",
    "            x[i] = (b[-i - 1] - t2 * x[64]) / t1\n",
    "    return x"
   ]
  },
  {
   "cell_type": "code",
   "execution_count": 21,
   "metadata": {},
   "outputs": [
    {
     "data": {
      "text/plain": [
       "array([1., 1., 1., 1., 1., 1., 1., 1., 1., 1., 1., 1., 1., 1., 1., 1., 1.,\n",
       "       1., 1., 1., 1., 1., 1., 1., 1., 1., 1., 1., 1., 1., 1., 1., 1., 1.,\n",
       "       1., 1., 1., 1., 1., 1., 1., 1., 1., 1., 1., 1., 1., 1., 1., 1., 1.,\n",
       "       1., 1., 1., 1., 1., 1., 1., 1., 1., 1., 1., 1., 1., 1., 1., 1., 1.,\n",
       "       1., 1.])"
      ]
     },
     "execution_count": 21,
     "metadata": {},
     "output_type": "execute_result"
    }
   ],
   "source": [
    "t_side_diag = 50\n",
    "t_65 = 10\n",
    "b = [60] * 70\n",
    "b[5] = 50\n",
    "solve_mysys(t_side_diag, t_65, b)"
   ]
  },
  {
   "cell_type": "code",
   "execution_count": 23,
   "metadata": {
    "scrolled": true
   },
   "outputs": [
    {
     "name": "stdout",
     "output_type": "stream",
     "text": [
      "[ 9.352e+01  9.078e+01  8.808e+01  8.542e+01  8.280e+01  8.022e+01\n",
      "  7.768e+01  7.518e+01  7.272e+01  7.030e+01  6.792e+01  6.558e+01\n",
      "  6.328e+01  6.102e+01  5.880e+01  5.662e+01  5.448e+01  5.238e+01\n",
      "  5.032e+01  4.830e+01  4.632e+01  4.438e+01  4.248e+01  4.062e+01\n",
      "  3.880e+01  3.702e+01  3.528e+01  3.358e+01  3.192e+01  3.030e+01\n",
      "  2.872e+01  2.718e+01  2.568e+01  2.422e+01  2.280e+01  2.142e+01\n",
      "  2.008e+01  1.878e+01  1.752e+01  1.630e+01  1.512e+01  1.398e+01\n",
      "  1.288e+01  1.182e+01  1.080e+01  9.820e+00  8.880e+00  7.980e+00\n",
      "  7.120e+00  6.300e+00  5.520e+00  4.780e+00  4.080e+00  3.420e+00\n",
      "  2.800e+00  2.220e+00  1.680e+00  1.180e+00  7.200e-01  3.000e-01\n",
      " -8.000e-02 -4.200e-01 -7.200e-01 -9.800e-01 -1.500e+00 -1.380e+00\n",
      " -1.520e+00 -1.620e+00 -1.680e+00 -1.700e+00]\n"
     ]
    }
   ],
   "source": [
    "b = np.array([i**2 - 100 for i in range(70)])\n",
    "print(np.around(solve_mysys(t_side_diag, t_65, b), 3))"
   ]
  },
  {
   "cell_type": "code",
   "execution_count": 24,
   "metadata": {},
   "outputs": [],
   "source": [
    "def seidel(A, b, eps):\n",
    "    n = A.shape[0]\n",
    "    #найдём матрицу B, B1, B2\n",
    "    B = np.matrix(np.array([[-A[i, j] / A[i, i] if i != j else 0 for j in range(n)] for i in range(n)]))\n",
    "    B1 = np.matrix(np.array([[B[i, j] if i > j else 0 for j in range(n)] for i in range(n)]))\n",
    "    B2 = np.matrix(np.array([[B[i, j] if i < j else 0 for j in range(n)] for i in range(n)]))\n",
    "    eps1 = ((1 - linalg.norm(B, ord = np.inf)) * eps) / linalg.norm(B2, ord = np.inf)\n",
    "    if linalg.norm(B1, ord = np.inf) + linalg.norm(B2, ord = np.inf) < 1:\n",
    "        x_ = np.array([0] * n)\n",
    "        x = np.array([0] * n)\n",
    "        it = 1\n",
    "        while True:\n",
    "            for i in range(n):\n",
    "                x[i] = (b[i] / A[i, i]) + sum(B1[i, j] * x[j] for j in range(i)) + sum(B2[i, j] * x_[j] for j in range(i, n))\n",
    "            if linalg.norm(x - x_, ord = 2) < eps1:\n",
    "                break\n",
    "            else:\n",
    "                x_ = x\n",
    "                it += 1\n",
    "        print(\"Mtx B = \\n\", B)\n",
    "        print(\"eps1 = \", eps1)\n",
    "        print(\"Norm Mtx B = \\n\", linalg.norm(B, ord = np.inf))\n",
    "        return x, it"
   ]
  },
  {
   "cell_type": "code",
   "execution_count": 27,
   "metadata": {
    "scrolled": true
   },
   "outputs": [
    {
     "name": "stdout",
     "output_type": "stream",
     "text": [
      "Mtx A = \n",
      " [[ 9.00111111e+01  3.31151531e+01  1.64378365e+00  1.06965739e-04\n",
      "  -7.25257873e-03  3.15180331e-03  1.06685587e-02  8.37669171e-03\n",
      "  -1.61666704e-03 -1.01236696e-02]\n",
      " [ 3.31151531e+01  8.99953761e+01  3.30981498e+01  1.64114479e+00\n",
      "   1.42586844e-02  1.06786869e-02  8.37669296e-03 -1.61666704e-03\n",
      "  -1.01236696e-02 -9.32301699e-03]\n",
      " [ 1.64378365e+00  3.30981498e+01  8.99927373e+01  3.31123015e+01\n",
      "   1.65907606e+00  1.94835741e-02 -1.60653888e-03 -1.01236683e-02\n",
      "  -9.32301699e-03  4.91744221e-05]\n",
      " [ 1.06965739e-04  1.64114479e+00  3.31123015e+01  9.00106686e+01\n",
      "   3.31175264e+01  1.64679083e+00  9.83212791e-04 -9.31288882e-03\n",
      "   4.91756720e-05  9.37615510e-03]\n",
      " [-7.25257873e-03  1.42586844e-02  1.65907606e+00  3.31175264e+01\n",
      "   8.99983833e+01  3.30990260e+01  1.63908448e+00  1.11560568e-02\n",
      "   9.38628326e-03  1.00827433e-02]\n",
      " [ 3.15180331e-03  1.06786869e-02  1.94835741e-02  1.64679083e+00\n",
      "   3.30990260e+01  8.99906770e+01  3.31091989e+01  1.65778366e+00\n",
      "   2.11896244e-02  1.52943059e-03]\n",
      " [ 1.06685587e-02  8.37669296e-03 -1.60653888e-03  9.83212791e-04\n",
      "   1.63908448e+00  3.31091989e+01  9.00093762e+01  3.31192324e+01\n",
      "   1.64992680e+00  2.66590556e-03]\n",
      " [ 8.37669171e-03 -1.61666704e-03 -1.01236683e-02 -9.31288882e-03\n",
      "   1.11560568e-02  1.65778366e+00  3.31192324e+01  9.00015193e+01\n",
      "   3.31007087e+01  1.63776684e+00]\n",
      " [-1.61666704e-03 -1.01236696e-02 -9.32301699e-03  4.91756720e-05\n",
      "   9.38628326e-03  2.11896244e-02  1.64992680e+00  3.31007087e+01\n",
      "   8.99893593e+01  3.31060923e+01]\n",
      " [-1.01236696e-02 -9.32301699e-03  4.91744221e-05  9.37615510e-03\n",
      "   1.00827433e-02  1.52943059e-03  2.66590556e-03  1.63776684e+00\n",
      "   3.31060923e+01  9.00073369e+01]]\n",
      "Mtx B = \n",
      " [[ 0.00000000e+00 -3.67900725e-01 -1.82620082e-02 -1.18836150e-06\n",
      "   8.05742607e-05 -3.50157139e-05 -1.18524909e-04 -9.30628631e-05\n",
      "   1.79607498e-05  1.12471332e-04]\n",
      " [-3.67965050e-01  0.00000000e+00 -3.67776115e-01 -1.82358790e-02\n",
      "  -1.58437967e-04 -1.18658173e-04 -9.30791483e-05  1.79638901e-05\n",
      "   1.12490997e-04  1.03594400e-04]\n",
      " [-1.82657367e-02 -3.67786899e-01  0.00000000e+00 -3.67944153e-01\n",
      "  -1.84356661e-02 -2.16501627e-04  1.78518726e-05  1.12494282e-04\n",
      "   1.03597438e-04 -5.46426563e-07]\n",
      " [-1.18836734e-06 -1.82327808e-02 -3.67870854e-01  0.00000000e+00\n",
      "  -3.67928901e-01 -1.82955072e-02 -1.09232917e-05  1.03464278e-04\n",
      "  -5.46331594e-07 -1.04167153e-04]\n",
      " [ 8.05856557e-05 -1.58432673e-04 -1.84345096e-02 -3.67979126e-01\n",
      "   0.00000000e+00 -3.67773562e-01 -1.82123770e-02 -1.23958413e-04\n",
      "  -1.04293910e-04 -1.12032493e-04]\n",
      " [-3.50236649e-05 -1.18664369e-04 -2.16506584e-04 -1.82995716e-02\n",
      "  -3.67805057e-01  0.00000000e+00 -3.67918100e-01 -1.84217267e-02\n",
      "  -2.35464662e-04 -1.69954338e-05]\n",
      " [-1.18527193e-04 -9.30646708e-05  1.78485725e-05 -1.09234486e-05\n",
      "  -1.82101527e-02 -3.67841666e-01  0.00000000e+00 -3.67953138e-01\n",
      "  -1.83306104e-02 -2.96180873e-05]\n",
      " [-9.30727812e-05  1.79626639e-05  1.12483305e-04  1.03474796e-04\n",
      "  -1.23954094e-04 -1.84195074e-02 -3.67985260e-01  0.00000000e+00\n",
      "  -3.67779444e-01 -1.81971021e-02]\n",
      " [ 1.79650911e-05  1.12498518e-04  1.03601326e-04 -5.46460963e-07\n",
      "  -1.04304368e-04 -2.35468110e-04 -1.83346877e-02 -3.67829141e-01\n",
      "   0.00000000e+00 -3.67888966e-01]\n",
      " [ 1.12476048e-04  1.03580634e-04 -5.46337930e-07 -1.04171009e-04\n",
      "  -1.12021349e-04 -1.69922880e-05 -2.96187583e-05 -1.81959260e-02\n",
      "  -3.67815486e-01  0.00000000e+00]]\n",
      "eps1 =  5.86646369122494e-11\n",
      "Norm Mtx B = \n",
      " 0.7730671093422276\n",
      "x =  [21 21 21 21 21 21 21 21 21 21]\n",
      "x* =  [19 19 19 19 19 19 19 19 22 20]\n",
      "iterations number =  2\n"
     ]
    }
   ],
   "source": [
    "A = np.array([\n",
    "             [np.math.cos(i + j)/(90) + 90 * np.math.exp(-(i - j)**2) for j in range(10)] \n",
    "             for i in range(10)]\n",
    "             )\n",
    "x_def = np.array([21] * 10)\n",
    "b = A @ x_def\n",
    "print(\"Mtx A = \\n\", A)\n",
    "x, it = seidel(A, b, 10 ** (-10))\n",
    "print(\"x = \",x_def)\n",
    "print(\"x* = \", x)\n",
    "print(\"iterations number = \", it)"
   ]
  }
 ],
 "metadata": {
  "kernelspec": {
   "display_name": "Python 3",
   "language": "python",
   "name": "python3"
  },
  "language_info": {
   "codemirror_mode": {
    "name": "ipython",
    "version": 3
   },
   "file_extension": ".py",
   "mimetype": "text/x-python",
   "name": "python",
   "nbconvert_exporter": "python",
   "pygments_lexer": "ipython3",
   "version": "3.8.5"
  }
 },
 "nbformat": 4,
 "nbformat_minor": 4
}
