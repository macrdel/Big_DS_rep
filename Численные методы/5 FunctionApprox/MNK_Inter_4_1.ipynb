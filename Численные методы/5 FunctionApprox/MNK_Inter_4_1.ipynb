{
 "cells": [
  {
   "attachments": {},
   "cell_type": "markdown",
   "metadata": {},
   "source": [
    "## Кутдусов Руслан "
   ]
  },
  {
   "cell_type": "markdown",
   "metadata": {},
   "source": [
    "##### Условие"
   ]
  },
  {
   "cell_type": "markdown",
   "metadata": {},
   "source": [
    "Приведены данные о численности населения Индонезии по годам с 1950 -2000 г.г. Заполнить последние два столбца таблицы (взять сведения из интернета).  На основе этих данных построить наилучший многочлен  по МНК.  Найти численность  населения Индонезии  в 2019 году  и сравнить полученное значение  с актуальным значением  (взять из интернета).\n",
    "Решить ту же  задачу на основе интерполяционного многочлена.  То есть построить интерполяционный многочлен по значениям с 1950-2020 г.г. Вычислить значение  для 2019 года и сравнить с актуальными данными.  Составить отчет по задаче."
   ]
  },
  {
   "cell_type": "code",
   "execution_count": 1,
   "metadata": {},
   "outputs": [],
   "source": [
    "import pandas as pd"
   ]
  },
  {
   "cell_type": "code",
   "execution_count": 2,
   "metadata": {},
   "outputs": [
    {
     "data": {
      "text/html": [
       "<div>\n",
       "<style scoped>\n",
       "    .dataframe tbody tr th:only-of-type {\n",
       "        vertical-align: middle;\n",
       "    }\n",
       "\n",
       "    .dataframe tbody tr th {\n",
       "        vertical-align: top;\n",
       "    }\n",
       "\n",
       "    .dataframe thead th {\n",
       "        text-align: right;\n",
       "    }\n",
       "</style>\n",
       "<table border=\"1\" class=\"dataframe\">\n",
       "  <thead>\n",
       "    <tr style=\"text-align: right;\">\n",
       "      <th></th>\n",
       "      <th>1950</th>\n",
       "      <th>1960</th>\n",
       "      <th>1970</th>\n",
       "      <th>1980</th>\n",
       "      <th>1990</th>\n",
       "      <th>2000</th>\n",
       "      <th>2010</th>\n",
       "      <th>2020</th>\n",
       "    </tr>\n",
       "    <tr>\n",
       "      <th>Страна</th>\n",
       "      <th></th>\n",
       "      <th></th>\n",
       "      <th></th>\n",
       "      <th></th>\n",
       "      <th></th>\n",
       "      <th></th>\n",
       "      <th></th>\n",
       "      <th></th>\n",
       "    </tr>\n",
       "  </thead>\n",
       "  <tbody>\n",
       "    <tr>\n",
       "      <th>Индонезия</th>\n",
       "      <td>77</td>\n",
       "      <td>98.5</td>\n",
       "      <td>124</td>\n",
       "      <td>148.5</td>\n",
       "      <td>184</td>\n",
       "      <td>228</td>\n",
       "      <td>237.6</td>\n",
       "      <td>275.6</td>\n",
       "    </tr>\n",
       "  </tbody>\n",
       "</table>\n",
       "</div>"
      ],
      "text/plain": [
       "           1950  1960  1970   1980  1990  2000   2010   2020\n",
       "Страна                                                      \n",
       "Индонезия    77  98.5   124  148.5   184   228  237.6  275.6"
      ]
     },
     "execution_count": 2,
     "metadata": {},
     "output_type": "execute_result"
    }
   ],
   "source": [
    "pd.read_csv('indonesia.tsv', sep = '\\t', index_col = 0)"
   ]
  },
  {
   "cell_type": "code",
   "execution_count": 3,
   "metadata": {},
   "outputs": [],
   "source": [
    "import numpy as np\n",
    "from matplotlib import pyplot as plt\n",
    "from scipy import linalg, interpolate"
   ]
  },
  {
   "cell_type": "markdown",
   "metadata": {},
   "source": [
    "### МНК"
   ]
  },
  {
   "cell_type": "code",
   "execution_count": 4,
   "metadata": {},
   "outputs": [
    {
     "data": {
      "text/plain": [
       "array([ 0, 10, 20, 30, 40, 50, 60, 70], dtype=uint64)"
      ]
     },
     "execution_count": 4,
     "metadata": {},
     "output_type": "execute_result"
    }
   ],
   "source": [
    "x = np.array([10 * i for i in range(8)], dtype = 'uint64') # 1950 соответствует 0, 1960 - 10, ..., 2020 - 70\n",
    "x"
   ]
  },
  {
   "cell_type": "code",
   "execution_count": 5,
   "metadata": {},
   "outputs": [
    {
     "data": {
      "text/plain": [
       "array([ 77. ,  98.5, 124. , 148.5, 184. , 228. , 237.6, 275.6])"
      ]
     },
     "execution_count": 5,
     "metadata": {},
     "output_type": "execute_result"
    }
   ],
   "source": [
    "y = np.array([77, 98.5, 124, 148.5, 184, 228, 237.6, 275.6])\n",
    "y"
   ]
  },
  {
   "cell_type": "code",
   "execution_count": 6,
   "metadata": {},
   "outputs": [],
   "source": [
    "def MNK (n):\n",
    "    G = np.array([[sum(x[i] ** (k + j) for i in range(8)) for k in range(n)] for j in range(n)])\n",
    "    b = np.array([sum(y[i] * (x[i] ** k) for i in range(8)) for k in range(n)])\n",
    "    a = linalg.solve(G, b)\n",
    "    return a"
   ]
  },
  {
   "cell_type": "code",
   "execution_count": 7,
   "metadata": {},
   "outputs": [],
   "source": [
    "def P_mnk(x, n):\n",
    "    a = MNK(n)\n",
    "    return sum(a[i] * x ** i for i in range(n))"
   ]
  },
  {
   "cell_type": "code",
   "execution_count": 8,
   "metadata": {},
   "outputs": [
    {
     "name": "stderr",
     "output_type": "stream",
     "text": [
      "<ipython-input-6-3b427c8eae55>:4: LinAlgWarning: Ill-conditioned matrix (rcond=2.32562e-19): result may not be accurate.\n",
      "  a = linalg.solve(G, b)\n"
     ]
    },
    {
     "data": {
      "text/plain": [
       "<matplotlib.legend.Legend at 0x1ecc1cadb80>"
      ]
     },
     "execution_count": 8,
     "metadata": {},
     "output_type": "execute_result"
    },
    {
     "data": {
      "image/png": "[encoded data removed]",
      "text/plain": [
       "<Figure size 1440x360 with 3 Axes>"
      ]
     },
     "metadata": {
      "needs_background": "light"
     },
     "output_type": "display_data"
    }
   ],
   "source": [
    "z = np.linspace(0, 70, 1000)\n",
    "fig, axs = plt.subplots(1, 3, figsize=(20, 5))\n",
    "axs[0].plot(z, P_mnk(z, 2), 'g',label = 'P_mnk(x, 1)')\n",
    "axs[1].plot(z, P_mnk(z, 4), '--r',label = 'P_mnk(x, 3)')\n",
    "axs[2].plot(z, P_mnk(z, 6), '-.b',label = 'P_mnk(x, 5)')\n",
    "axs[0].scatter(x, y)\n",
    "axs[1].scatter(x, y)\n",
    "axs[2].scatter(x, y)\n",
    "axs[0].grid()\n",
    "axs[1].grid()\n",
    "axs[2].grid()\n",
    "axs[0].legend()\n",
    "axs[1].legend()\n",
    "axs[2].legend()"
   ]
  },
  {
   "cell_type": "markdown",
   "metadata": {},
   "source": [
    "###### Численность населения в 2019"
   ]
  },
  {
   "cell_type": "code",
   "execution_count": 9,
   "metadata": {},
   "outputs": [
    {
     "name": "stderr",
     "output_type": "stream",
     "text": [
      "<ipython-input-6-3b427c8eae55>:4: LinAlgWarning: Ill-conditioned matrix (rcond=2.32562e-19): result may not be accurate.\n",
      "  a = linalg.solve(G, b)\n"
     ]
    },
    {
     "data": {
      "text/plain": [
       "(270.1366666666667, 270.58657380952326, 269.3165088416831)"
      ]
     },
     "execution_count": 9,
     "metadata": {},
     "output_type": "execute_result"
    }
   ],
   "source": [
    "P_mnk(69, 2), P_mnk(69, 4),  P_mnk(69, 6) # многочлены 1-ой, 3-ой и 5-ой"
   ]
  },
  {
   "cell_type": "markdown",
   "metadata": {},
   "source": [
    "Численность по статистике - 269.2 млн"
   ]
  },
  {
   "cell_type": "markdown",
   "metadata": {},
   "source": [
    "Апроксимация дала приближённый результат. Ближе всего к истине - приближение многочленом 5-ой степени."
   ]
  },
  {
   "cell_type": "markdown",
   "metadata": {},
   "source": [
    "### Интепроляция"
   ]
  },
  {
   "cell_type": "code",
   "execution_count": 10,
   "metadata": {},
   "outputs": [],
   "source": [
    "P_inter = interpolate.interp1d(x, y, kind = 'cubic')"
   ]
  },
  {
   "cell_type": "code",
   "execution_count": 11,
   "metadata": {},
   "outputs": [
    {
     "data": {
      "text/plain": [
       "<matplotlib.legend.Legend at 0x1ecb6892400>"
      ]
     },
     "execution_count": 11,
     "metadata": {},
     "output_type": "execute_result"
    },
    {
     "data": {
      "image/png": "[encoded data removed]",
      "text/plain": [
       "<Figure size 720x720 with 1 Axes>"
      ]
     },
     "metadata": {
      "needs_background": "light"
     },
     "output_type": "display_data"
    }
   ],
   "source": [
    "fig = plt.figure(figsize=(10, 10))\n",
    "ax = fig.add_subplot()\n",
    "ax.grid()\n",
    "ax.scatter(x, y)\n",
    "ax.plot(z, P_inter(z), '-.r',label = 'P_inter(x)')\n",
    "ax.legend()"
   ]
  },
  {
   "cell_type": "markdown",
   "metadata": {},
   "source": [
    "###### Численность населения в 2019"
   ]
  },
  {
   "cell_type": "code",
   "execution_count": 12,
   "metadata": {},
   "outputs": [
    {
     "name": "stdout",
     "output_type": "stream",
     "text": [
      "267.85262727272726\n"
     ]
    }
   ],
   "source": [
    "print(P_inter(69))"
   ]
  },
  {
   "cell_type": "markdown",
   "metadata": {},
   "source": [
    "Численность по статистике - 269.2 млн."
   ]
  },
  {
   "cell_type": "markdown",
   "metadata": {},
   "source": [
    "Интерполяция дала приближённый результат."
   ]
  }
 ],
 "metadata": {
  "kernelspec": {
   "display_name": "Python 3",
   "language": "python",
   "name": "python3"
  },
  "language_info": {
   "codemirror_mode": {
    "name": "ipython",
    "version": 3
   },
   "file_extension": ".py",
   "mimetype": "text/x-python",
   "name": "python",
   "nbconvert_exporter": "python",
   "pygments_lexer": "ipython3",
   "version": "3.8.5"
  }
 },
 "nbformat": 4,
 "nbformat_minor": 4
}
