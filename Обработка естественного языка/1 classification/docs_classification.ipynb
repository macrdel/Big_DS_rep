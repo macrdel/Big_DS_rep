{
  "cells": [
    {
      "cell_type": "markdown",
      "metadata": {
        "id": "J7wNXeA4Jv3D"
      },
      "source": [
        "#Импорт библиотек"
      ]
    },
    {
      "cell_type": "code",
      "execution_count": 1,
      "metadata": {
        "id": "C4UhBwp4hFQX"
      },
      "outputs": [],
      "source": [
        "import re\n",
        "import nltk\n",
        "from nltk.corpus import stopwords\n",
        "from nltk.tokenize import word_tokenize\n",
        "from stop_words import get_stop_words\n",
        "import numpy as np\n",
        "import pymorphy2\n",
        "from sklearn.model_selection import train_test_split\n",
        "from sklearn.feature_extraction.text import CountVectorizer\n",
        "import time\n",
        "from sklearn.neighbors import KNeighborsClassifier\n",
        "from sklearn.linear_model import PassiveAggressiveClassifier\n",
        "from sklearn.discriminant_analysis import LinearDiscriminantAnalysis\n",
        "from sklearn.metrics import classification_report"
      ]
    },
    {
      "cell_type": "code",
      "execution_count": 2,
      "metadata": {
        "colab": {
          "base_uri": "https://localhost:8080/"
        },
        "id": "NUKBCQlxhFQj",
        "outputId": "036c1330-1b4b-4d4d-bc2d-2ba0d1fe369d"
      },
      "outputs": [
        {
          "name": "stderr",
          "output_type": "stream",
          "text": [
            "[nltk_data] Downloading package punkt to /root/nltk_data...\n",
            "[nltk_data]   Package punkt is already up-to-date!\n",
            "[nltk_data] Downloading package stopwords to /root/nltk_data...\n",
            "[nltk_data]   Package stopwords is already up-to-date!\n",
            "[nltk_data] Downloading package wordnet to /root/nltk_data...\n",
            "[nltk_data]   Package wordnet is already up-to-date!\n"
          ]
        },
        {
          "data": {
            "text/plain": [
              "True"
            ]
          },
          "execution_count": 2,
          "metadata": {},
          "output_type": "execute_result"
        }
      ],
      "source": [
        "nltk.download('punkt')\n",
        "nltk.download('stopwords')\n",
        "nltk.download('wordnet')"
      ]
    },
    {
      "cell_type": "markdown",
      "metadata": {
        "id": "Jc5tlHRnKBgf"
      },
      "source": [
        "#Стоп слова"
      ]
    },
    {
      "cell_type": "code",
      "execution_count": 3,
      "metadata": {
        "id": "EHIfhKpphFQm"
      },
      "outputs": [],
      "source": [
        "def get_list_stop():\n",
        "  stop_words = list(get_stop_words('russian'))\n",
        "  print(f'Из библиотеки stop_words - {len(stop_words)} слов')\n",
        "  stop_words_nltk = list(stopwords.words('russian'))\n",
        "  print(f'Из nltk - {len(stop_words_nltk)} слов')\n",
        "  stop_words.extend(stop_words_nltk)\n",
        "  print(f'Всего - {len(stop_words)} слов')\n",
        "  return stop_words"
      ]
    },
    {
      "cell_type": "code",
      "execution_count": 4,
      "metadata": {
        "colab": {
          "base_uri": "https://localhost:8080/"
        },
        "id": "fhj2kEjVhFQo",
        "outputId": "6d8d4b20-cfea-4b08-b8f8-5d84cade42bb"
      },
      "outputs": [
        {
          "name": "stdout",
          "output_type": "stream",
          "text": [
            "Из библиотеки stop_words - 421 слов\n",
            "Из nltk - 151 слов\n",
            "Всего - 572 слов\n",
            "Примеры стоп слов ['ваш', 'вон', 'вот', 'все', 'всю', 'вся', 'всё', 'где', 'год', 'два', 'две', 'дел', 'для', 'его', 'ему', 'еще', 'ещё', 'или', 'ими', 'имя'] ...\n"
          ]
        }
      ],
      "source": [
        "stop_words = get_list_stop()\n",
        "print(f'Примеры стоп слов {stop_words[50:70]} ...')"
      ]
    },
    {
      "cell_type": "markdown",
      "metadata": {
        "id": "_R0L3bLiMdLT"
      },
      "source": [
        "#Работа с текстом"
      ]
    },
    {
      "cell_type": "markdown",
      "metadata": {
        "id": "Z_3GD8YGKaXD"
      },
      "source": [
        "Корпус документов"
      ]
    },
    {
      "cell_type": "code",
      "execution_count": 5,
      "metadata": {
        "id": "6-PMaD-rhFQp"
      },
      "outputs": [],
      "source": [
        "fname = 'corp0.txt'"
      ]
    },
    {
      "cell_type": "markdown",
      "metadata": {
        "id": "hEAcKMlBLBwr"
      },
      "source": [
        "Лемматизатор с русского языка"
      ]
    },
    {
      "cell_type": "code",
      "execution_count": 6,
      "metadata": {
        "id": "3Hsl2dvShFQs"
      },
      "outputs": [],
      "source": [
        "morph = pymorphy2.MorphAnalyzer()"
      ]
    },
    {
      "cell_type": "markdown",
      "metadata": {
        "id": "ZYwLehiqLQPe"
      },
      "source": [
        "Обработка документов из файла"
      ]
    },
    {
      "cell_type": "code",
      "execution_count": 7,
      "metadata": {
        "id": "VuPJcjbghFQs"
      },
      "outputs": [],
      "source": [
        "def text_processing(fname, stop_words, morph):\n",
        "  with open(fname, 'r', encoding = \"utf_8\", errors=\"ignore\") as read_txt:\n",
        "    text = read_txt.read()\n",
        "    text = re.sub(r'[^А-я #\\n]', '', text)\n",
        "    text = text.lower()\n",
        "    text = text.split('\\n')\n",
        "    for i in range(len(text)):\n",
        "      text[i] = nltk.word_tokenize(text[i])\n",
        "      text[i] = [morph.parse(word)[0].normal_form for word in text[i] if word not in stop_words]\n",
        "  return text"
      ]
    },
    {
      "cell_type": "code",
      "execution_count": 8,
      "metadata": {
        "colab": {
          "base_uri": "https://localhost:8080/"
        },
        "id": "agrshYDXhFQt",
        "outputId": "fc14a719-28bc-4d07-d19f-e643db99605e"
      },
      "outputs": [
        {
          "data": {
            "text/plain": [
              "['#',\n",
              " 'семья',\n",
              " 'ребёнок',\n",
              " 'хотеть',\n",
              " 'вылезать',\n",
              " 'река',\n",
              " 'каждый',\n",
              " 'день',\n",
              " 'допустимый',\n",
              " 'просмотр',\n",
              " 'телевизор',\n",
              " 'становиться',\n",
              " 'уверить',\n",
              " 'способный',\n",
              " 'вынести',\n",
              " 'крик',\n",
              " 'половина',\n",
              " 'мой']"
            ]
          },
          "execution_count": 8,
          "metadata": {},
          "output_type": "execute_result"
        }
      ],
      "source": [
        "list_doc = text_processing(fname, stop_words, morph)\n",
        "list_doc[0]"
      ]
    },
    {
      "cell_type": "code",
      "execution_count": 9,
      "metadata": {
        "colab": {
          "base_uri": "https://localhost:8080/"
        },
        "id": "NEsZO230hFQu",
        "outputId": "a0b4cc02-cbb3-43e3-f76f-095bb2d8ff48"
      },
      "outputs": [
        {
          "name": "stderr",
          "output_type": "stream",
          "text": [
            "<ipython-input-9-bff1fd503610>:5: VisibleDeprecationWarning: Creating an ndarray from ragged nested sequences (which is a list-or-tuple of lists-or-tuples-or ndarrays with different lengths or shapes) is deprecated. If you meant to do this, you must specify 'dtype=object' when creating the ndarray.\n",
            "  x, y = np.array(x), np.array(y)\n"
          ]
        }
      ],
      "source": [
        "x, y = [], [] # документы, их метки\n",
        "for i in range(len(list_doc)):\n",
        "    y.append(list_doc[i][1])\n",
        "    x.append(list_doc[i][2:])\n",
        "x, y = np.array(x), np.array(y)"
      ]
    },
    {
      "cell_type": "code",
      "execution_count": 10,
      "metadata": {
        "colab": {
          "base_uri": "https://localhost:8080/"
        },
        "id": "T1gbC_PsNKkR",
        "outputId": "b2f9023e-e070-4d68-886c-6e85f20ab78c"
      },
      "outputs": [
        {
          "data": {
            "text/plain": [
              "['ребёнок',\n",
              " 'хотеть',\n",
              " 'вылезать',\n",
              " 'река',\n",
              " 'каждый',\n",
              " 'день',\n",
              " 'допустимый',\n",
              " 'просмотр',\n",
              " 'телевизор',\n",
              " 'становиться',\n",
              " 'уверить',\n",
              " 'способный',\n",
              " 'вынести',\n",
              " 'крик',\n",
              " 'половина',\n",
              " 'мой']"
            ]
          },
          "execution_count": 10,
          "metadata": {},
          "output_type": "execute_result"
        }
      ],
      "source": [
        "x[0]"
      ]
    },
    {
      "cell_type": "code",
      "execution_count": 11,
      "metadata": {
        "colab": {
          "base_uri": "https://localhost:8080/"
        },
        "id": "MyH7C4chhFQv",
        "outputId": "ebb30a77-1ee5-4cbd-9908-3272e91ef38c"
      },
      "outputs": [
        {
          "data": {
            "text/plain": [
              "array(['семья', 'семья', 'семья', ..., 'наука', 'политика', 'страна'],\n",
              "      dtype='<U12')"
            ]
          },
          "execution_count": 11,
          "metadata": {},
          "output_type": "execute_result"
        }
      ],
      "source": [
        "y"
      ]
    },
    {
      "cell_type": "code",
      "execution_count": 12,
      "metadata": {
        "id": "icYXC5xIhFQz"
      },
      "outputs": [],
      "source": [
        "for i in range(len(x)):\n",
        "    x[i] = ' '.join(x[i])"
      ]
    },
    {
      "cell_type": "code",
      "execution_count": 13,
      "metadata": {
        "colab": {
          "base_uri": "https://localhost:8080/",
          "height": 36
        },
        "id": "V6s7XTr4hFQz",
        "outputId": "9ee94b15-a64f-485f-a933-e8ccfbc8a8fc"
      },
      "outputs": [
        {
          "data": {
            "application/vnd.google.colaboratory.intrinsic+json": {
              "type": "string"
            },
            "text/plain": [
              "'ребёнок хотеть вылезать река каждый день допустимый просмотр телевизор становиться уверить способный вынести крик половина мой'"
            ]
          },
          "execution_count": 13,
          "metadata": {},
          "output_type": "execute_result"
        }
      ],
      "source": [
        "x[0]"
      ]
    },
    {
      "cell_type": "markdown",
      "metadata": {
        "id": "MSWffaT0T-cd"
      },
      "source": [
        "#Векторизация данных с использованием CountVectorizer"
      ]
    },
    {
      "cell_type": "code",
      "execution_count": 14,
      "metadata": {
        "id": "O-UL8RJMhFQ1"
      },
      "outputs": [],
      "source": [
        "k_split = 0.25\n",
        "x_trn, x_vl, y_trn, y_vl = train_test_split(x, y, test_size = k_split, shuffle = True, stratify=y)"
      ]
    },
    {
      "cell_type": "code",
      "execution_count": 15,
      "metadata": {
        "id": "67QPryXjhFQ1"
      },
      "outputs": [],
      "source": [
        "vec = CountVectorizer(token_pattern = '\\w+', binary = False)\n",
        "len_trn = len(x_trn)\n",
        "x_trn = np.append(x_trn, x_vl, axis = 0) # Объединяем x_trn и x_vl и получаем полный корпус\n",
        "x_trn = vec.fit_transform(x_trn)\n",
        "x_vl = x_trn[len_trn:]\n",
        "x_trn = x_trn[:len_trn]\n",
        "# Преобразуем разреженные матрицы в массивы\n",
        "x_trn = np.float32(x_trn.toarray())\n",
        "x_vl = np.float32(x_vl.toarray())"
      ]
    },
    {
      "cell_type": "code",
      "execution_count": 16,
      "metadata": {
        "colab": {
          "base_uri": "https://localhost:8080/"
        },
        "id": "inLT2_CshFQ2",
        "outputId": "713bf814-d0d4-479a-ee3d-890aee896875"
      },
      "outputs": [
        {
          "data": {
            "text/plain": [
              "array([0., 0., 0., ..., 0., 0., 0.], dtype=float32)"
            ]
          },
          "execution_count": 16,
          "metadata": {},
          "output_type": "execute_result"
        }
      ],
      "source": [
        "x_trn[0]"
      ]
    },
    {
      "cell_type": "code",
      "execution_count": 17,
      "metadata": {
        "colab": {
          "base_uri": "https://localhost:8080/"
        },
        "id": "j7gVEcUdhFQ2",
        "outputId": "5cc6b886-9918-4b9f-83e0-8e902e30d22e"
      },
      "outputs": [
        {
          "data": {
            "text/plain": [
              "34989"
            ]
          },
          "execution_count": 17,
          "metadata": {},
          "output_type": "execute_result"
        }
      ],
      "source": [
        "x_trn.shape[1]"
      ]
    },
    {
      "cell_type": "markdown",
      "metadata": {
        "id": "4OQ-KDCXWTIO"
      },
      "source": [
        "Перечень классов документов"
      ]
    },
    {
      "cell_type": "code",
      "execution_count": 18,
      "metadata": {
        "id": "rbFD56kRhFQ3"
      },
      "outputs": [],
      "source": [
        "classes = dict.fromkeys(np.unique(y), 0)\n",
        "for i in range(len(list_doc)):\n",
        "  classes[list_doc[i][1]] += 1"
      ]
    },
    {
      "cell_type": "code",
      "execution_count": 19,
      "metadata": {
        "colab": {
          "base_uri": "https://localhost:8080/"
        },
        "id": "6RztPQQdhFQ5",
        "outputId": "0623bbf6-bb61-42b2-c299-272065fdd294"
      },
      "outputs": [
        {
          "data": {
            "text/plain": [
              "{'автомобиль': 249,\n",
              " 'здоровье': 157,\n",
              " 'культура': 358,\n",
              " 'наука': 227,\n",
              " 'недвижимость': 98,\n",
              " 'политика': 600,\n",
              " 'происшествие': 436,\n",
              " 'реклама': 94,\n",
              " 'семья': 101,\n",
              " 'спорт': 373,\n",
              " 'страна': 146,\n",
              " 'техника': 289,\n",
              " 'экономика': 272}"
            ]
          },
          "execution_count": 19,
          "metadata": {},
          "output_type": "execute_result"
        }
      ],
      "source": [
        "classes"
      ]
    },
    {
      "cell_type": "markdown",
      "metadata": {
        "id": "9bhyH7rdXtNh"
      },
      "source": [
        "#Применение выбранных классификаторов"
      ]
    },
    {
      "cell_type": "markdown",
      "metadata": {
        "id": "VWyP5rVDgLx6"
      },
      "source": [
        "__KNeighbors__ – объект присваивается тому классу, который является наиболее распространённым среди k соседей данного элемента, классы которых уже известны\n",
        "\n",
        "__PassiveAggressiveClassifier__ – алгоритм реагирует агрессивно (меняет свои веса) на неверно классифицированные примеры и остается пассивным (не изменяет веса) в случае правильной классификации\n",
        "\n",
        "__LinearDiscriminantAnalysis__ – строит линейные комбинации признаков для максимизации разделения между классами данных. Алгоритм использует информацию о разбросе между классами и внутри классов для определения оптимальной гиперплоскости, разделяющей классы в признаковом пространстве"
      ]
    },
    {
      "cell_type": "code",
      "execution_count": 21,
      "metadata": {
        "id": "R09UWyRQhFQ7"
      },
      "outputs": [],
      "source": [
        "def train(classifier):\n",
        "    start = time.time()\n",
        "    classifier.fit(x_trn, y_trn)\n",
        "    print('Время обучения классификатора:', time.time() - start)\n",
        "    print('Оценка точности классификации')\n",
        "    train_score = classifier.score(x_trn, y_trn)\n",
        "    print('Точность на обучающем множестве:', round(train_score, 4))\n",
        "    val_score = classifier.score(x_vl, y_vl)\n",
        "    print('Точность на проверочном множестве:', round(val_score, 4))\n",
        "    return classifier, train_score, val_score"
      ]
    },
    {
      "cell_type": "code",
      "execution_count": 22,
      "metadata": {
        "colab": {
          "base_uri": "https://localhost:8080/"
        },
        "id": "UTLSpMW7hFQ8",
        "outputId": "bcf7c37b-ed99-450e-8203-de6ee42e7017"
      },
      "outputs": [
        {
          "name": "stdout",
          "output_type": "stream",
          "text": [
            "KNeighbors\n",
            "Время обучения классификатора: 0.044127702713012695\n",
            "Оценка точности классификации\n",
            "Точность на обучающем множестве: 0.5286\n",
            "Точность на проверочном множестве: 0.4529\n",
            "---\n",
            "LDA\n",
            "Время обучения классификатора: 110.69402885437012\n",
            "Оценка точности классификации\n",
            "Точность на обучающем множестве: 0.9773\n",
            "Точность на проверочном множестве: 0.3447\n",
            "---\n",
            "PassiveAggressive\n",
            "Время обучения классификатора: 40.55483412742615\n",
            "Оценка точности классификации\n",
            "Точность на обучающем множестве: 0.9996\n",
            "Точность на проверочном множестве: 0.8612\n"
          ]
        }
      ],
      "source": [
        "print('KNeighbors')\n",
        "knn = KNeighborsClassifier(n_neighbors=12)\n",
        "knn, knn_train, knn_val = train(knn)\n",
        "print('---')\n",
        "print('LDA')\n",
        "lda = LinearDiscriminantAnalysis()\n",
        "lda, lda_train, lda_val = train(lda)\n",
        "print('---')\n",
        "print('PassiveAggressive')\n",
        "pa = PassiveAggressiveClassifier()\n",
        "pa, pa_train, pa_val = train(pa)"
      ]
    },
    {
      "cell_type": "markdown",
      "metadata": {
        "id": "tyVchP9MbDIq"
      },
      "source": [
        "Оценка точности на каждом классе"
      ]
    },
    {
      "cell_type": "code",
      "execution_count": 24,
      "metadata": {
        "id": "wXShg8zbbJgQ"
      },
      "outputs": [],
      "source": [
        "uniq = classes.keys()"
      ]
    },
    {
      "cell_type": "code",
      "execution_count": 25,
      "metadata": {
        "colab": {
          "base_uri": "https://localhost:8080/"
        },
        "id": "grhZ3ZDIlPvc",
        "outputId": "9d1c6850-6817-4cce-a601-d706d38e8783"
      },
      "outputs": [
        {
          "name": "stdout",
          "output_type": "stream",
          "text": [
            "KNeighbors\n",
            "Train\n",
            "              precision    recall  f1-score   support\n",
            "\n",
            "  автомобиль     0.9118    0.3316    0.4863       187\n",
            "    здоровье     0.5455    0.0508    0.0930       118\n",
            "    культура     0.8344    0.4888    0.6165       268\n",
            "       наука     0.9429    0.5824    0.7200       170\n",
            "недвижимость     1.0000    0.2192    0.3596        73\n",
            "    политика     0.9077    0.6778    0.7761       450\n",
            "происшествие     0.8982    0.6208    0.7342       327\n",
            "     реклама     0.8000    0.0563    0.1053        71\n",
            "       семья     0.4412    0.1974    0.2727        76\n",
            "       спорт     0.9014    0.6857    0.7789       280\n",
            "      страна     0.8000    0.1468    0.2481       109\n",
            "     техника     0.1667    0.9585    0.2840       217\n",
            "   экономика     0.8198    0.4461    0.5778       204\n",
            "\n",
            "    accuracy                         0.5286      2550\n",
            "   macro avg     0.7669    0.4202    0.4656      2550\n",
            "weighted avg     0.7950    0.5286    0.5717      2550\n",
            "\n",
            "Val\n",
            "              precision    recall  f1-score   support\n",
            "\n",
            "  автомобиль     0.7500    0.2903    0.4186        62\n",
            "    здоровье     0.0000    0.0000    0.0000        39\n",
            "    культура     0.8780    0.4000    0.5496        90\n",
            "       наука     0.9118    0.5439    0.6813        57\n",
            "недвижимость     0.6667    0.0800    0.1429        25\n",
            "    политика     0.9519    0.6600    0.7795       150\n",
            "происшествие     0.8361    0.4679    0.6000       109\n",
            "     реклама     0.0000    0.0000    0.0000        23\n",
            "       семья     0.6250    0.2000    0.3030        25\n",
            "       спорт     0.8929    0.5376    0.6711        93\n",
            "      страна     0.8333    0.1351    0.2326        37\n",
            "     техника     0.1468    0.9722    0.2550        72\n",
            "   экономика     0.6923    0.2647    0.3830        68\n",
            "\n",
            "    accuracy                         0.4529       850\n",
            "   macro avg     0.6296    0.3501    0.3859       850\n",
            "weighted avg     0.7238    0.4529    0.4978       850\n",
            "\n"
          ]
        }
      ],
      "source": [
        "print('KNeighbors')\n",
        "print('Train')\n",
        "print(classification_report(y_trn, knn.predict(x_trn),\n",
        "          target_names = uniq, digits = 4))\n",
        "print('Val')\n",
        "print(classification_report(y_vl, knn.predict(x_vl),\n",
        "          target_names = uniq, digits = 4))"
      ]
    },
    {
      "cell_type": "code",
      "execution_count": 26,
      "metadata": {
        "colab": {
          "base_uri": "https://localhost:8080/"
        },
        "id": "JOGjTFj6cj5C",
        "outputId": "f9f4349d-e356-44f2-8ebb-db82785eff22"
      },
      "outputs": [
        {
          "name": "stdout",
          "output_type": "stream",
          "text": [
            "LDA\n",
            "Train\n",
            "              precision    recall  f1-score   support\n",
            "\n",
            "  автомобиль     1.0000    0.9893    0.9946       187\n",
            "    здоровье     1.0000    0.9831    0.9915       118\n",
            "    культура     0.9158    0.9739    0.9439       268\n",
            "       наука     0.9011    0.9647    0.9318       170\n",
            "недвижимость     1.0000    0.9178    0.9571        73\n",
            "    политика     1.0000    0.9933    0.9967       450\n",
            "происшествие     0.9969    0.9817    0.9892       327\n",
            "     реклама     1.0000    0.9859    0.9929        71\n",
            "       семья     0.9859    0.9211    0.9524        76\n",
            "       спорт     0.9786    0.9821    0.9804       280\n",
            "      страна     0.9464    0.9725    0.9593       109\n",
            "     техника     0.9953    0.9724    0.9837       217\n",
            "   экономика     0.9950    0.9755    0.9851       204\n",
            "\n",
            "    accuracy                         0.9773      2550\n",
            "   macro avg     0.9781    0.9702    0.9737      2550\n",
            "weighted avg     0.9783    0.9773    0.9775      2550\n",
            "\n",
            "Val\n",
            "              precision    recall  f1-score   support\n",
            "\n",
            "  автомобиль     0.9375    0.4839    0.6383        62\n",
            "    здоровье     0.8421    0.4103    0.5517        39\n",
            "    культура     0.5122    0.2333    0.3206        90\n",
            "       наука     0.2072    0.4035    0.2738        57\n",
            "недвижимость     0.0921    0.2800    0.1386        25\n",
            "    политика     0.6311    0.5133    0.5662       150\n",
            "происшествие     0.2857    0.4404    0.3466       109\n",
            "     реклама     0.5000    0.0435    0.0800        23\n",
            "       семья     0.0833    0.2400    0.1237        25\n",
            "       спорт     0.7273    0.2581    0.3810        93\n",
            "      страна     0.2800    0.1892    0.2258        37\n",
            "     техника     0.7692    0.1389    0.2353        72\n",
            "   экономика     0.1691    0.3382    0.2255        68\n",
            "\n",
            "    accuracy                         0.3447       850\n",
            "   macro avg     0.4644    0.3056    0.3159       850\n",
            "weighted avg     0.5123    0.3447    0.3679       850\n",
            "\n"
          ]
        }
      ],
      "source": [
        "print('LDA')\n",
        "print('Train')\n",
        "print(classification_report(y_trn, lda.predict(x_trn),\n",
        "          target_names = uniq, digits = 4))\n",
        "print('Val')\n",
        "print(classification_report(y_vl, lda.predict(x_vl),\n",
        "          target_names = uniq, digits = 4))"
      ]
    },
    {
      "cell_type": "code",
      "execution_count": 27,
      "metadata": {
        "colab": {
          "base_uri": "https://localhost:8080/"
        },
        "id": "Vs33lAjNcxxz",
        "outputId": "07319010-b3a3-465c-a7d9-3bf05407d405"
      },
      "outputs": [
        {
          "name": "stdout",
          "output_type": "stream",
          "text": [
            "PassiveAggressive\n",
            "Train\n",
            "              precision    recall  f1-score   support\n",
            "\n",
            "  автомобиль     1.0000    1.0000    1.0000       187\n",
            "    здоровье     1.0000    1.0000    1.0000       118\n",
            "    культура     1.0000    1.0000    1.0000       268\n",
            "       наука     1.0000    1.0000    1.0000       170\n",
            "недвижимость     1.0000    1.0000    1.0000        73\n",
            "    политика     0.9978    1.0000    0.9989       450\n",
            "происшествие     1.0000    1.0000    1.0000       327\n",
            "     реклама     1.0000    1.0000    1.0000        71\n",
            "       семья     1.0000    1.0000    1.0000        76\n",
            "       спорт     1.0000    1.0000    1.0000       280\n",
            "      страна     1.0000    0.9908    0.9954       109\n",
            "     техника     1.0000    1.0000    1.0000       217\n",
            "   экономика     1.0000    1.0000    1.0000       204\n",
            "\n",
            "    accuracy                         0.9996      2550\n",
            "   macro avg     0.9998    0.9993    0.9996      2550\n",
            "weighted avg     0.9996    0.9996    0.9996      2550\n",
            "\n",
            "Val\n",
            "              precision    recall  f1-score   support\n",
            "\n",
            "  автомобиль     0.8871    0.8871    0.8871        62\n",
            "    здоровье     0.7674    0.8462    0.8049        39\n",
            "    культура     0.8182    0.9000    0.8571        90\n",
            "       наука     0.9153    0.9474    0.9310        57\n",
            "недвижимость     0.6071    0.6800    0.6415        25\n",
            "    политика     0.9178    0.8933    0.9054       150\n",
            "происшествие     0.9266    0.9266    0.9266       109\n",
            "     реклама     0.9333    0.6087    0.7368        23\n",
            "       семья     0.7692    0.8000    0.7843        25\n",
            "       спорт     0.9684    0.9892    0.9787        93\n",
            "      страна     0.4286    0.4054    0.4167        37\n",
            "     техника     0.8841    0.8472    0.8652        72\n",
            "   экономика     0.8594    0.8088    0.8333        68\n",
            "\n",
            "    accuracy                         0.8612       850\n",
            "   macro avg     0.8217    0.8108    0.8130       850\n",
            "weighted avg     0.8627    0.8612    0.8605       850\n",
            "\n"
          ]
        }
      ],
      "source": [
        "print('PassiveAggressive')\n",
        "print('Train')\n",
        "print(classification_report(y_trn, pa.predict(x_trn),\n",
        "          target_names = uniq, digits = 4))\n",
        "print('Val')\n",
        "print(classification_report(y_vl, pa.predict(x_vl),\n",
        "          target_names = uniq, digits = 4))"
      ]
    },
    {
      "cell_type": "markdown",
      "metadata": {
        "id": "KEP0u1WkDAa_"
      },
      "source": [
        "Классификатор __KNN__ оказался наиболее быстр, но наименее точен.\n",
        "\n",
        "Классификатор __LDA__ обучался дольше, при этом случилось переобучение.\n",
        "\n",
        "Классификтор __PA__ оказался наиболее медленным, при этом на тесте показал высокую точность."
      ]
    }
  ],
  "metadata": {
    "colab": {
      "provenance": []
    },
    "kernelspec": {
      "display_name": "Python 3",
      "language": "python",
      "name": "python3"
    },
    "language_info": {
      "codemirror_mode": {
        "name": "ipython",
        "version": 3
      },
      "file_extension": ".py",
      "mimetype": "text/x-python",
      "name": "python",
      "nbconvert_exporter": "python",
      "pygments_lexer": "ipython3",
      "version": "3.8.5"
    }
  },
  "nbformat": 4,
  "nbformat_minor": 0
}
