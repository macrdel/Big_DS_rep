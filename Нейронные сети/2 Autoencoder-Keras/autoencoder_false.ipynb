{
 "cells": [
  {
   "cell_type": "code",
   "execution_count": 1,
   "metadata": {},
   "outputs": [],
   "source": [
    "import numpy as np\n",
    "import matplotlib.pyplot as plt\n",
    "import keras, tensorflow as tf\n",
    "from tensorflow.keras.datasets import mnist\n",
    "from keras.preprocessing.image import ImageDataGenerator\n",
    "from keras.layers import Input, Dense, Reshape\n",
    "from keras.models import Model"
   ]
  },
  {
   "cell_type": "code",
   "execution_count": 2,
   "metadata": {},
   "outputs": [],
   "source": [
    "img_cols = img_rows = 28\n",
    "epochs = 10\n",
    "batch_size = 60"
   ]
  },
  {
   "cell_type": "code",
   "execution_count": 3,
   "metadata": {},
   "outputs": [],
   "source": [
    "(x_train, y_train), (x_test, y_test) = mnist.load_data()\n",
    "x_train = x_train.reshape(x_train.shape[0], 1, img_cols, img_rows)\n",
    "x_test = x_test.reshape(x_test.shape[0], 1, img_cols, img_rows)\n",
    "x_train = np.array(x_train, dtype = 'float32')\n",
    "x_test = np.array(x_test, dtype = 'float32')\n",
    "x_train = x_train / 255\n",
    "x_test = x_test / 255"
   ]
  },
  {
   "cell_type": "code",
   "execution_count": 4,
   "metadata": {},
   "outputs": [
    {
     "name": "stderr",
     "output_type": "stream",
     "text": [
      "C:\\Users\\user\\anaconda3\\lib\\site-packages\\keras_preprocessing\\image\\image_data_generator.py:938: UserWarning: Expected input to be images (as Numpy array) following the data format convention \"channels_last\" (channels on axis 3), i.e. expected either 1, 3 or 4 channels on axis 3. However, it was passed an array with shape (60000, 1, 28, 28) (28 channels).\n",
      "  warnings.warn(\n"
     ]
    }
   ],
   "source": [
    "datagen = ImageDataGenerator(featurewise_center=True)\n",
    "datagen.fit(x_train)"
   ]
  },
  {
   "cell_type": "code",
   "execution_count": 5,
   "metadata": {},
   "outputs": [
    {
     "name": "stderr",
     "output_type": "stream",
     "text": [
      "C:\\Users\\user\\anaconda3\\lib\\site-packages\\keras_preprocessing\\image\\numpy_array_iterator.py:129: UserWarning: NumpyArrayIterator is set to use the data format convention \"channels_last\" (channels on axis 3), i.e. expected either 1, 3, or 4 channels on axis 3. However, it was passed an array with shape (60000, 1, 28, 28) (28 channels).\n",
      "  warnings.warn('NumpyArrayIterator is set to use the '\n",
      "C:\\Users\\user\\anaconda3\\lib\\site-packages\\keras_preprocessing\\image\\numpy_array_iterator.py:129: UserWarning: NumpyArrayIterator is set to use the data format convention \"channels_last\" (channels on axis 3), i.e. expected either 1, 3, or 4 channels on axis 3. However, it was passed an array with shape (10000, 1, 28, 28) (28 channels).\n",
      "  warnings.warn('NumpyArrayIterator is set to use the '\n"
     ]
    }
   ],
   "source": [
    "x_train_batch = datagen.flow(x_train, y_train, batch_size = 200)\n",
    "x_test_batch = datagen.flow(x_test, y_test, batch_size = 100)\n",
    "x_train = x_train_batch[0][0].reshape(200, img_rows * img_cols)\n",
    "x_test = x_test_batch[0][0].reshape(100, img_rows * img_cols)\n",
    "y_test = x_test_batch[0][1]"
   ]
  },
  {
   "cell_type": "code",
   "execution_count": 4,
   "metadata": {},
   "outputs": [
    {
     "data": {
      "image/png": "[encoded data removed]",
      "text/plain": [
       "<Figure size 144x144 with 1 Axes>"
      ]
     },
     "metadata": {
      "needs_background": "light"
     },
     "output_type": "display_data"
    }
   ],
   "source": [
    "i = np.random.randint(len(x_train))\n",
    "img = x_train[i].reshape(28, 28)\n",
    "def one_plt(img):\n",
    "    plt.figure(figsize = (2, 2))\n",
    "    plt.imshow(img, cmap = 'gray')\n",
    "    plt.axis('off')\n",
    "    plt.show()\n",
    "one_plt(img)"
   ]
  },
  {
   "cell_type": "code",
   "execution_count": 5,
   "metadata": {},
   "outputs": [],
   "source": [
    "def one_part(units, x):\n",
    "    return Dense(units, activation='relu')(x)"
   ]
  },
  {
   "cell_type": "code",
   "execution_count": 6,
   "metadata": {},
   "outputs": [
    {
     "name": "stdout",
     "output_type": "stream",
     "text": [
      "Model: \"autoencoder\"\n",
      "_________________________________________________________________\n",
      "Layer (type)                 Output Shape              Param #   \n",
      "=================================================================\n",
      "input_1 (InputLayer)         [(None, 1, 28, 28)]       0         \n",
      "_________________________________________________________________\n",
      "reshape (Reshape)            (None, 784)               0         \n",
      "_________________________________________________________________\n",
      "dense (Dense)                (None, 512)               401920    \n",
      "_________________________________________________________________\n",
      "dense_1 (Dense)              (None, 256)               131328    \n",
      "_________________________________________________________________\n",
      "dense_2 (Dense)              (None, 128)               32896     \n",
      "_________________________________________________________________\n",
      "dense_3 (Dense)              (None, 64)                8256      \n",
      "_________________________________________________________________\n",
      "dense_4 (Dense)              (None, 32)                2080      \n",
      "_________________________________________________________________\n",
      "dense_5 (Dense)              (None, 64)                2112      \n",
      "_________________________________________________________________\n",
      "dense_6 (Dense)              (None, 128)               8320      \n",
      "_________________________________________________________________\n",
      "dense_7 (Dense)              (None, 256)               33024     \n",
      "_________________________________________________________________\n",
      "dense_8 (Dense)              (None, 512)               131584    \n",
      "_________________________________________________________________\n",
      "dense_9 (Dense)              (None, 784)               402192    \n",
      "_________________________________________________________________\n",
      "reshape_1 (Reshape)          (None, 1, 28, 28)         0         \n",
      "=================================================================\n",
      "Total params: 1,153,712\n",
      "Trainable params: 1,153,712\n",
      "Non-trainable params: 0\n",
      "_________________________________________________________________\n"
     ]
    }
   ],
   "source": [
    "latent_size = 32 # Размер латентного пространста\n",
    "inp = Input((1, img_cols, img_rows))\n",
    "x = Reshape((-1, ))(inp)\n",
    "x = one_part(512, x)\n",
    "x = one_part(256, x)\n",
    "x = one_part(128, x)\n",
    "x = one_part(64, x)\n",
    "encoded = one_part(latent_size, x)\n",
    "x = one_part(64, encoded)\n",
    "x = one_part(128, x)\n",
    "x = one_part(256, x)\n",
    "x = one_part(512, x)\n",
    "x = Dense(img_cols * img_rows, activation='sigmoid')(x) \n",
    "decoded = Reshape((1, img_cols, img_rows))(x)\n",
    "model = Model(inp, decoded, name=\"autoencoder\")\n",
    "model.summary()"
   ]
  },
  {
   "cell_type": "code",
   "execution_count": 7,
   "metadata": {},
   "outputs": [
    {
     "name": "stdout",
     "output_type": "stream",
     "text": [
      "Epoch 1/10\n",
      "1000/1000 [==============================] - 17s 16ms/step - loss: 0.0186\n",
      "Epoch 2/10\n",
      "1000/1000 [==============================] - 16s 16ms/step - loss: 0.0095\n",
      "Epoch 3/10\n",
      "1000/1000 [==============================] - 16s 16ms/step - loss: 0.0076\n",
      "Epoch 4/10\n",
      "1000/1000 [==============================] - 16s 16ms/step - loss: 0.0067\n",
      "Epoch 5/10\n",
      "1000/1000 [==============================] - 16s 16ms/step - loss: 0.0061\n",
      "Epoch 6/10\n",
      "1000/1000 [==============================] - 16s 16ms/step - loss: 0.0057\n",
      "Epoch 7/10\n",
      "1000/1000 [==============================] - 16s 16ms/step - loss: 0.0054\n",
      "Epoch 8/10\n",
      "1000/1000 [==============================] - 16s 16ms/step - loss: 0.0051\n",
      "Epoch 9/10\n",
      "1000/1000 [==============================] - 18s 18ms/step - loss: 0.0049\n",
      "Epoch 10/10\n",
      "1000/1000 [==============================] - 18s 18ms/step - loss: 0.0047\n"
     ]
    },
    {
     "data": {
      "text/plain": [
       "<keras.callbacks.History at 0x13d62799400>"
      ]
     },
     "execution_count": 7,
     "metadata": {},
     "output_type": "execute_result"
    }
   ],
   "source": [
    "model.compile(optimizer='adam', loss='msle')\n",
    "model.fit(x = x_train, y = x_train, batch_size= batch_size, epochs=epochs, shuffle=True)"
   ]
  },
  {
   "cell_type": "code",
   "execution_count": 39,
   "metadata": {},
   "outputs": [
    {
     "name": "stdout",
     "output_type": "stream",
     "text": [
      "(10000, 1, 28, 28)\n",
      "(60000, 1, 28, 28)\n"
     ]
    }
   ],
   "source": [
    "decoded_imgs1 = model.predict(x_test)\n",
    "decoded_imgs2 = model.predict(x_train)\n",
    "decoded_imgs1 = np.array(decoded_imgs1, dtype='float32')\n",
    "decoded_imgs2 = np.array(decoded_imgs2, dtype='float32')\n",
    "print(decoded_imgs1.shape)\n",
    "print(decoded_imgs2.shape)"
   ]
  },
  {
   "cell_type": "code",
   "execution_count": 40,
   "metadata": {},
   "outputs": [
    {
     "data": {
      "image/png": "[encoded data removed]",
      "text/plain": [
       "<Figure size 864x720 with 10 Axes>"
      ]
     },
     "metadata": {
      "needs_background": "light"
     },
     "output_type": "display_data"
    }
   ],
   "source": [
    "n = 10\n",
    "f = plt.figure(figsize=(12, 10))\n",
    "for i in range(n):\n",
    "    # j = np.random.randint(0, high=len(x_y), dtype=int)\n",
    "    sp = f.add_subplot(1, n, i+1)\n",
    "    sp.axis('Off')\n",
    "    img = decoded_imgs1[i]\n",
    "    img = img.reshape(img_rows, img_cols)\n",
    "    plt.imshow(img, cmap = plt.get_cmap('gray'))\n",
    "plt.show()"
   ]
  },
  {
   "cell_type": "code",
   "execution_count": 43,
   "metadata": {},
   "outputs": [
    {
     "name": "stdout",
     "output_type": "stream",
     "text": [
      "Настройка генератора...\n"
     ]
    }
   ],
   "source": [
    "# x_train = decoded_imgs2.reshape(x_train.shape[0], 1, img_rows, img_cols)\n",
    "# x_test = decoded_imgs1.reshape(x_test.shape[0], 1, img_rows, img_cols)\n",
    "datagen = ImageDataGenerator(featurewise_center = True, samplewise_center = True)\n",
    "print('Настройка генератора...')\n",
    "datagen.fit(decoded_imgs1)\n",
    "x_y_train = datagen.flow(decoded_imgs2, y_train, batch_size = 200)\n",
    "x_y_test = datagen.flow(decoded_imgs1, y_test, batch_size = 50)\n",
    "x_y_train = x_y_train[0][0].reshape(200, img_rows * img_cols)\n",
    "x_y_test = x_y_test[0][0].reshape(50, img_rows * img_cols)"
   ]
  },
  {
   "cell_type": "code",
   "execution_count": 44,
   "metadata": {},
   "outputs": [
    {
     "data": {
      "image/png": "[encoded data removed]",
      "text/plain": [
       "<Figure size 864x720 with 10 Axes>"
      ]
     },
     "metadata": {
      "needs_background": "light"
     },
     "output_type": "display_data"
    }
   ],
   "source": [
    "n = 10\n",
    "f = plt.figure(figsize=(12, 10))\n",
    "for i in range(n):\n",
    "    # j = np.random.randint(0, high=len(x_y), dtype=int)\n",
    "    sp = f.add_subplot(1, n, i+1)\n",
    "    sp.axis('Off')\n",
    "    img = x_y_test[i]\n",
    "    img = img.reshape(img_rows, img_cols)\n",
    "    plt.imshow(img, cmap = plt.get_cmap('gray'))\n",
    "plt.show()"
   ]
  },
  {
   "cell_type": "code",
   "execution_count": null,
   "metadata": {},
   "outputs": [],
   "source": []
  }
 ],
 "metadata": {
  "kernelspec": {
   "display_name": "Python 3",
   "language": "python",
   "name": "python3"
  },
  "language_info": {
   "codemirror_mode": {
    "name": "ipython",
    "version": 3
   },
   "file_extension": ".py",
   "mimetype": "text/x-python",
   "name": "python",
   "nbconvert_exporter": "python",
   "pygments_lexer": "ipython3",
   "version": "3.8.5"
  }
 },
 "nbformat": 4,
 "nbformat_minor": 4
}
