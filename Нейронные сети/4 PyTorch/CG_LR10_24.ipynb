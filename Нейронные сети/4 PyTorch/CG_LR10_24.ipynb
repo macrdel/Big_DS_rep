{
 "cells": [
  {
   "cell_type": "code",
   "execution_count": 1,
   "metadata": {},
   "outputs": [],
   "source": [
    "import numpy as np\n",
    "import tensorflow as tf"
   ]
  },
  {
   "cell_type": "code",
   "execution_count": 2,
   "metadata": {},
   "outputs": [],
   "source": [
    "from keras.datasets import mnist\n",
    "(x_train, y_train), (x_test, y_test) = mnist.load_data()"
   ]
  },
  {
   "cell_type": "code",
   "execution_count": 3,
   "metadata": {},
   "outputs": [],
   "source": [
    "x_train = np.array(x_train, dtype='float32') / 255\n",
    "x_test = np.array(x_test, dtype='float32') / 255"
   ]
  },
  {
   "cell_type": "code",
   "execution_count": 4,
   "metadata": {},
   "outputs": [],
   "source": [
    "x_train = x_train.reshape(x_train.shape[0], 28, 28, 1)"
   ]
  },
  {
   "cell_type": "code",
   "execution_count": 5,
   "metadata": {},
   "outputs": [],
   "source": [
    "x_test = x_test.reshape(x_test.shape[0], 28, 28, 1)"
   ]
  },
  {
   "cell_type": "code",
   "execution_count": 7,
   "metadata": {},
   "outputs": [],
   "source": [
    "y_train = tf.keras.utils.to_categorical(y_train, 10)\n",
    "y_test = tf.keras.utils.to_categorical(y_test, 10)"
   ]
  },
  {
   "cell_type": "code",
   "execution_count": 8,
   "metadata": {},
   "outputs": [],
   "source": [
    "from keras import layers\n",
    "from keras import models"
   ]
  },
  {
   "cell_type": "code",
   "execution_count": 9,
   "metadata": {},
   "outputs": [
    {
     "name": "stdout",
     "output_type": "stream",
     "text": [
      "Model: \"sequential\"\n",
      "_________________________________________________________________\n",
      "Layer (type)                 Output Shape              Param #   \n",
      "=================================================================\n",
      "conv2d (Conv2D)              (None, 26, 26, 32)        320       \n",
      "_________________________________________________________________\n",
      "max_pooling2d (MaxPooling2D) (None, 13, 13, 32)        0         \n",
      "_________________________________________________________________\n",
      "conv2d_1 (Conv2D)            (None, 11, 11, 64)        18496     \n",
      "_________________________________________________________________\n",
      "max_pooling2d_1 (MaxPooling2 (None, 5, 5, 64)          0         \n",
      "_________________________________________________________________\n",
      "conv2d_2 (Conv2D)            (None, 3, 3, 64)          36928     \n",
      "_________________________________________________________________\n",
      "flatten (Flatten)            (None, 576)               0         \n",
      "_________________________________________________________________\n",
      "dense (Dense)                (None, 64)                36928     \n",
      "_________________________________________________________________\n",
      "dense_1 (Dense)              (None, 10)                650       \n",
      "=================================================================\n",
      "Total params: 93,322\n",
      "Trainable params: 93,322\n",
      "Non-trainable params: 0\n",
      "_________________________________________________________________\n"
     ]
    }
   ],
   "source": [
    "model = models.Sequential()\n",
    "model.add(layers.Conv2D(32,(3,3), activation='relu', input_shape = (28,28,1)))\n",
    "model.add(layers.MaxPooling2D((2,2)))\n",
    "model.add(layers.Conv2D(64,(3,3), activation='relu'))\n",
    "model.add(layers.MaxPooling2D((2,2)))\n",
    "model.add(layers.Conv2D(64,(3,3), activation='relu'))\n",
    "model.add(layers.Flatten())\n",
    "model.add(layers.Dense(64,activation = 'relu'))\n",
    "model.add(layers.Dense(10, activation= 'softmax'))\n",
    "\n",
    "model.summary()"
   ]
  },
  {
   "cell_type": "code",
   "execution_count": 10,
   "metadata": {},
   "outputs": [],
   "source": [
    "model.compile(optimizer = 'rmsprop',\n",
    "             loss = 'categorical_crossentropy',\n",
    "             metrics = ['accuracy'])"
   ]
  },
  {
   "cell_type": "code",
   "execution_count": 11,
   "metadata": {},
   "outputs": [
    {
     "name": "stdout",
     "output_type": "stream",
     "text": [
      "Epoch 1/10\n",
      "938/938 [==============================] - 70s 73ms/step - loss: 0.1648 - accuracy: 0.9483 - val_loss: 0.0487 - val_accuracy: 0.9836\n",
      "Epoch 2/10\n",
      "938/938 [==============================] - 66s 70ms/step - loss: 0.0461 - accuracy: 0.9862 - val_loss: 0.0297 - val_accuracy: 0.9907\n",
      "Epoch 3/10\n",
      "938/938 [==============================] - 70s 75ms/step - loss: 0.0319 - accuracy: 0.9904 - val_loss: 0.0312 - val_accuracy: 0.9901\n",
      "Epoch 4/10\n",
      "938/938 [==============================] - 71s 76ms/step - loss: 0.0239 - accuracy: 0.9930 - val_loss: 0.0268 - val_accuracy: 0.9910\n",
      "Epoch 5/10\n",
      "938/938 [==============================] - 73s 78ms/step - loss: 0.0200 - accuracy: 0.9942 - val_loss: 0.0296 - val_accuracy: 0.9911\n",
      "Epoch 6/10\n",
      "938/938 [==============================] - 68s 73ms/step - loss: 0.0161 - accuracy: 0.9952 - val_loss: 0.0354 - val_accuracy: 0.9897\n",
      "Epoch 7/10\n",
      "938/938 [==============================] - 76s 81ms/step - loss: 0.0133 - accuracy: 0.9960 - val_loss: 0.0309 - val_accuracy: 0.9915\n",
      "Epoch 8/10\n",
      "938/938 [==============================] - 72s 77ms/step - loss: 0.0099 - accuracy: 0.9969 - val_loss: 0.0278 - val_accuracy: 0.9919\n",
      "Epoch 9/10\n",
      "938/938 [==============================] - 61s 65ms/step - loss: 0.0091 - accuracy: 0.9971 - val_loss: 0.0409 - val_accuracy: 0.9908\n",
      "Epoch 10/10\n",
      "938/938 [==============================] - 67s 71ms/step - loss: 0.0078 - accuracy: 0.9978 - val_loss: 0.0419 - val_accuracy: 0.9928\n"
     ]
    },
    {
     "data": {
      "text/plain": [
       "<keras.callbacks.History at 0x1a08b57b460>"
      ]
     },
     "execution_count": 11,
     "metadata": {},
     "output_type": "execute_result"
    }
   ],
   "source": [
    "model.fit(x_train, y_train, epochs = 10, batch_size = 64, verbose = 1, validation_data = (x_test, y_test))"
   ]
  },
  {
   "cell_type": "code",
   "execution_count": 13,
   "metadata": {},
   "outputs": [],
   "source": [
    "y_pred = model.predict(x_test)"
   ]
  },
  {
   "cell_type": "code",
   "execution_count": 14,
   "metadata": {},
   "outputs": [],
   "source": [
    "pred = np.array([np.argmax(pr) for pr in y_pred])\n",
    "true = np.array([np.argmax(tst) for tst in y_test])"
   ]
  },
  {
   "cell_type": "code",
   "execution_count": 15,
   "metadata": {},
   "outputs": [],
   "source": [
    "y_test_all = [0] * 10\n",
    "y_test_true = [0] * 10\n",
    "for i in range(y_test.shape[0]):\n",
    "    y_test_all[true[i]] += 1\n",
    "    if true[i] == pred[i]:\n",
    "        y_test_true[true[i]] += 1"
   ]
  },
  {
   "cell_type": "code",
   "execution_count": 16,
   "metadata": {},
   "outputs": [
    {
     "name": "stdout",
     "output_type": "stream",
     "text": [
      "Test: \n",
      "acc  0  -  99.6939\n",
      "acc  1  -  99.9119\n",
      "acc  2  -  99.5155\n",
      "acc  3  -  99.8020\n",
      "acc  4  -  99.2872\n",
      "acc  5  -  98.4305\n",
      "acc  6  -  98.6430\n",
      "acc  7  -  99.0272\n",
      "acc  8  -  99.2813\n",
      "acc  9  -  99.0089\n"
     ]
    }
   ],
   "source": [
    "print(\"Test: \")\n",
    "for i in range(10):\n",
    "    print(\"acc \", i, \" - \", format((y_test_true[i] * 100) / y_test_all[i], '.4f') )"
   ]
  },
  {
   "cell_type": "code",
   "execution_count": 17,
   "metadata": {},
   "outputs": [],
   "source": [
    "from sklearn.metrics import classification_report"
   ]
  },
  {
   "cell_type": "code",
   "execution_count": 18,
   "metadata": {},
   "outputs": [],
   "source": [
    "target_names = ['Класс ' + str(cls) for cls in range(10)]"
   ]
  },
  {
   "cell_type": "code",
   "execution_count": 19,
   "metadata": {},
   "outputs": [
    {
     "name": "stdout",
     "output_type": "stream",
     "text": [
      "              precision    recall  f1-score   support\n",
      "\n",
      "     Класс 0       0.99      1.00      0.99       980\n",
      "     Класс 1       0.99      1.00      1.00      1135\n",
      "     Класс 2       0.99      1.00      0.99      1032\n",
      "     Класс 3       0.99      1.00      0.99      1010\n",
      "     Класс 4       1.00      0.99      0.99       982\n",
      "     Класс 5       0.99      0.98      0.99       892\n",
      "     Класс 6       1.00      0.99      0.99       958\n",
      "     Класс 7       0.99      0.99      0.99      1028\n",
      "     Класс 8       0.99      0.99      0.99       974\n",
      "     Класс 9       0.99      0.99      0.99      1009\n",
      "\n",
      "    accuracy                           0.99     10000\n",
      "   macro avg       0.99      0.99      0.99     10000\n",
      "weighted avg       0.99      0.99      0.99     10000\n",
      "\n"
     ]
    }
   ],
   "source": [
    "print(classification_report(true, pred,\n",
    "          target_names = target_names))"
   ]
  },
  {
   "cell_type": "markdown",
   "metadata": {},
   "source": [
    "$ PRECISION = \\frac{TP}{TP + FP} \\quad RECALL = \\frac{TP}{TP + FN} \\quad f1 = \\frac{2 × precision × recall}{precision + recall} $"
   ]
  },
  {
   "cell_type": "code",
   "execution_count": 33,
   "metadata": {},
   "outputs": [
    {
     "name": "stdout",
     "output_type": "stream",
     "text": [
      "Класс precision  recall  f1-score\n",
      "0 \t 0.99 \t 1.0 \t 0.99 \t 980\n",
      "1 \t 0.99 \t 1.0 \t 1.0 \t 1135\n",
      "2 \t 0.99 \t 1.0 \t 0.99 \t 1032\n",
      "3 \t 0.99 \t 1.0 \t 0.99 \t 1010\n",
      "4 \t 1.0 \t 0.99 \t 0.99 \t 982\n",
      "5 \t 0.99 \t 0.98 \t 0.99 \t 892\n",
      "6 \t 1.0 \t 0.99 \t 0.99 \t 958\n",
      "7 \t 0.99 \t 0.99 \t 0.99 \t 1028\n",
      "8 \t 0.99 \t 0.99 \t 0.99 \t 974\n",
      "9 \t 0.99 \t 0.99 \t 0.99 \t 1009\n"
     ]
    }
   ],
   "source": [
    "print('Класс precision  recall  f1-score')\n",
    "for cls in range(10):\n",
    "    TP_plus_FP = np.sum(pred == cls)\n",
    "    TP_plus_FN = np.sum(true == cls)\n",
    "    TP = np.sum(pred == true, where = true == cls)\n",
    "    P = TP / TP_plus_FP\n",
    "    R = TP / TP_plus_FN\n",
    "    F1 = (2 * P * R) / (P + R)\n",
    "    print(cls, '\\t', round(P, 2), '\\t', round(R, 2), '\\t', round(F1, 2), '\\t', y_test_all[cls])"
   ]
  },
  {
   "cell_type": "code",
   "execution_count": null,
   "metadata": {},
   "outputs": [],
   "source": []
  }
 ],
 "metadata": {
  "kernelspec": {
   "display_name": "Python 3",
   "language": "python",
   "name": "python3"
  },
  "language_info": {
   "codemirror_mode": {
    "name": "ipython",
    "version": 3
   },
   "file_extension": ".py",
   "mimetype": "text/x-python",
   "name": "python",
   "nbconvert_exporter": "python",
   "pygments_lexer": "ipython3",
   "version": "3.8.5"
  }
 },
 "nbformat": 4,
 "nbformat_minor": 4
}
