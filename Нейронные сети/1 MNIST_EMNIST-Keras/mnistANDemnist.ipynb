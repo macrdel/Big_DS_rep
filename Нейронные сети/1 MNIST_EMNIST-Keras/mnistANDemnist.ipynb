{
 "cells": [
  {
   "cell_type": "code",
   "execution_count": 1,
   "metadata": {},
   "outputs": [],
   "source": [
    "import matplotlib.pyplot as plt\n",
    "import numpy as np\n",
    "import tensorflow as tf\n",
    "from keras.layers import Input, Dense, Flatten, Reshape, Dropout, Conv2D, MaxPooling2D\n",
    "from keras.models import Model\n",
    "from sys import exit"
   ]
  },
  {
   "cell_type": "code",
   "execution_count": 2,
   "metadata": {},
   "outputs": [],
   "source": [
    "img_rows = img_cols = 28\n",
    "mnist = not True\n",
    "flatten = not True\n",
    "reshape = True\n",
    "pathToData = 'mnistemnist/'\n",
    "num_classes = 36\n",
    "epochs = 5 \n",
    "fn_model = pathToData + 'lk3.h5'\n",
    "# \n",
    "pathToHistory = 'mnistemnist/'\n",
    "suff = '.txt'\n",
    "# Имена файлов, в которые сохраняется история обучения \n",
    "fn_loss = pathToHistory + 'loss_' + suff\n",
    "fn_acc = pathToHistory + 'acc_' + suff\n",
    "fn_val_loss = pathToHistory + 'val_loss_' + suff\n",
    "fn_val_acc = pathToHistory + 'val_acc_' + suff"
   ]
  },
  {
   "cell_type": "code",
   "execution_count": 3,
   "metadata": {},
   "outputs": [],
   "source": [
    "def one_plot(n, y_lb, loss_acc, val_loss_acc):\n",
    "    plt.subplot(1, 2, n)\n",
    "    if n == 1:\n",
    "        lb, lb2 = 'loss', 'val_loss'\n",
    "        yMin = 0\n",
    "        yMax = 1.05 * max(max(loss_acc), max(val_loss_acc))\n",
    "    else:\n",
    "        lb, lb2 = 'acc', 'val_acc'\n",
    "        yMin = min(min(loss_acc), min(val_loss_acc))\n",
    "        yMax = 1.0\n",
    "    plt.plot(loss_acc, color='r', label=lb, linestyle='--')\n",
    "    plt.plot(val_loss_acc, color='g', label=lb2)\n",
    "    plt.ylabel(y_lb)\n",
    "    plt.xlabel('Эпоха')\n",
    "    plt.ylim([0.95 * yMin, yMax])\n",
    "    plt.legend()"
   ]
  },
  {
   "cell_type": "code",
   "execution_count": 4,
   "metadata": {},
   "outputs": [],
   "source": [
    "def loadBinData(pathToData, img_rows, img_cols):\n",
    "    print('Загрузка данных из двоичных файлов...')\n",
    "    with open(pathToData + 'imagesTrain_mnist.bin', 'rb') as read_binary:\n",
    "        x_train1 = np.fromfile(read_binary, dtype=np.uint8)\n",
    "    with open(pathToData + 'labelsTrain_mnist.bin', 'rb') as read_binary:\n",
    "        y_train1 = np.fromfile(read_binary, dtype=np.uint8)\n",
    "    with open(pathToData + 'imagesTest_mnist.bin', 'rb') as read_binary:\n",
    "        x_test1 = np.fromfile(read_binary, dtype=np.uint8)\n",
    "    with open(pathToData + 'labelsTest_mnist.bin', 'rb') as read_binary:\n",
    "        y_test1 = np.fromfile(read_binary, dtype=np.uint8)\n",
    "    with open(pathToData + 'imagesTrain_emnist.bin', 'rb') as read_binary:\n",
    "        x_train2 = np.fromfile(read_binary, dtype=np.uint8)\n",
    "    with open(pathToData + 'labelsTrain_emnist.bin', 'rb') as read_binary:\n",
    "        y_train2 = np.fromfile(read_binary, dtype=np.uint8)\n",
    "    with open(pathToData + 'imagesTest_emnist.bin', 'rb') as read_binary:\n",
    "        x_test2 = np.fromfile(read_binary, dtype=np.uint8)\n",
    "    with open(pathToData + 'labelsTest_emnist.bin', 'rb') as read_binary:\n",
    "        y_test2 = np.fromfile(read_binary, dtype=np.uint8)\n",
    "        # Преобразование целочисленных данных в float32 и нормализация; данные лежат в диапазоне [0.0, 1.0]\n",
    "    x_train1 = np.array(x_train1, dtype='float32') / 255\n",
    "    x_test1 = np.array(x_test1, dtype='float32') / 255\n",
    "    x_train2 = np.array(x_train2, dtype='float32') / 255\n",
    "    x_test2 = np.array(x_test2, dtype='float32') / 255\n",
    "    x_train1 = x_train1.reshape(-1, img_rows, img_cols)\n",
    "    x_test1 = x_test1.reshape(-1, img_rows, img_cols)\n",
    "    x_train2 = x_train2.reshape(-1, img_rows, img_cols, 1).transpose(0, 2, 1, 3)\n",
    "    x_test2 = x_test2.reshape(-1, img_rows, img_cols, 1).transpose(0, 2, 1, 3)\n",
    "    print('Преобразуем массивы меток в категориальное представление')\n",
    "    y_train2 -= 1\n",
    "    y_train1 += 26\n",
    "    y_test2 -= 1\n",
    "    y_test1 += 26\n",
    "    y_train1 = tf.keras.utils.to_categorical(y_train1, num_classes)\n",
    "    y_test1 = tf.keras.utils.to_categorical(y_test1, num_classes)\n",
    "    y_train2 = tf.keras.utils.to_categorical(y_train2, num_classes)\n",
    "    y_test2 = tf.keras.utils.to_categorical(y_test2, num_classes)\n",
    "    x_train1 = np.expand_dims(x_train1, axis = 3)\n",
    "    x_test1 = np.expand_dims(x_test1, axis = 3)\n",
    "    # x_train2 = np.expand_dims(x_train2, axis = 3)\n",
    "    # x_test2 = np.expand_dims(x_test2, axis = 3)\n",
    "    x_train = np.concatenate((x_train1, x_train2), axis = 0)\n",
    "    y_train = np.concatenate((y_train1, y_train2), axis = 0)\n",
    "    x_test = np.concatenate((x_test1, x_test2), axis = 0)\n",
    "    y_test = np.concatenate((y_test1, y_test2), axis = 0)\n",
    "    # print(y_train[0]) # (MNIST) Напечатает: [0. 0. 0. 0. 0. 1. 0. 0. 0. 0.]\n",
    "    # x_train = np.expand_dims(x_train, axis = 3)\n",
    "    # x_test = np.expand_dims(x_test, axis = 3)\n",
    "    print(y_train.shape)\n",
    "    print(x_train.shape)\n",
    "    print(y_test.shape)\n",
    "    print(x_test.shape)\n",
    "    return x_train, y_train, x_test, y_test"
   ]
  },
  {
   "cell_type": "code",
   "execution_count": 5,
   "metadata": {},
   "outputs": [
    {
     "name": "stdout",
     "output_type": "stream",
     "text": [
      "Загрузка данных из двоичных файлов...\n",
      "Преобразуем массивы меток в категориальное представление\n",
      "(184800, 36)\n",
      "(184800, 28, 28, 1)\n",
      "(30800, 36)\n",
      "(30800, 28, 28, 1)\n"
     ]
    }
   ],
   "source": [
    "x_train, y_train, x_test, y_test = loadBinData(pathToData, img_rows, img_cols)"
   ]
  },
  {
   "cell_type": "code",
   "execution_count": 6,
   "metadata": {},
   "outputs": [
    {
     "name": "stdout",
     "output_type": "stream",
     "text": [
      "Model: \"model\"\n",
      "_________________________________________________________________\n",
      "Layer (type)                 Output Shape              Param #   \n",
      "=================================================================\n",
      "input_1 (InputLayer)         [(None, 28, 28, 1)]       0         \n",
      "_________________________________________________________________\n",
      "flatten (Flatten)            (None, 784)               0         \n",
      "_________________________________________________________________\n",
      "dense (Dense)                (None, 32)                25120     \n",
      "_________________________________________________________________\n",
      "dense_1 (Dense)              (None, 36)                1188      \n",
      "=================================================================\n",
      "Total params: 26,308\n",
      "Trainable params: 26,308\n",
      "Non-trainable params: 0\n",
      "_________________________________________________________________\n"
     ]
    }
   ],
   "source": [
    "# Определяем форму входных данных \n",
    "input_shape = (img_rows, img_cols, 1)\n",
    "# \n",
    "# Создание модели нейронной сети \n",
    "inp = Input(shape = input_shape) # Входной слой \n",
    "x = inp \n",
    "x = Flatten()(x) # Преобразование 2D в 1D \n",
    "x = Dense(units = 32, activation = 'relu')(x) \n",
    "output = Dense(num_classes, activation = 'softmax')(x) \n",
    "model = Model(inputs = inp, outputs = output) \n",
    "model.summary()"
   ]
  },
  {
   "cell_type": "code",
   "execution_count": 6,
   "metadata": {},
   "outputs": [
    {
     "name": "stdout",
     "output_type": "stream",
     "text": [
      "Model: \"sequential\"\n",
      "_________________________________________________________________\n",
      "Layer (type)                 Output Shape              Param #   \n",
      "=================================================================\n",
      "conv2d (Conv2D)              (None, 28, 28, 32)        320       \n",
      "_________________________________________________________________\n",
      "max_pooling2d (MaxPooling2D) (None, 14, 14, 32)        0         \n",
      "_________________________________________________________________\n",
      "reshape (Reshape)            (None, 6272)              0         \n",
      "_________________________________________________________________\n",
      "dense (Dense)                (None, 256)               1605888   \n",
      "_________________________________________________________________\n",
      "dropout (Dropout)            (None, 256)               0         \n",
      "_________________________________________________________________\n",
      "dense_1 (Dense)              (None, 36)                9252      \n",
      "=================================================================\n",
      "Total params: 1,615,460\n",
      "Trainable params: 1,615,460\n",
      "Non-trainable params: 0\n",
      "_________________________________________________________________\n"
     ]
    }
   ],
   "source": [
    "# Определяем форму входных данных \n",
    "# \n",
    "# Создание модели нейронной сети \n",
    "model = tf.keras.Sequential([\n",
    "    Conv2D(32, (3,3), padding='same', activation='relu', input_shape=(28, 28, 1)),\n",
    "    MaxPooling2D((2, 2), strides=2),\n",
    "    Conv2D(64, (3,3), padding='same', activation='relu'),\n",
    "    MaxPooling2D((2, 2), strides=2),\n",
    "    Reshape((-1, )),\n",
    "    # Flatten(),\n",
    "    Dense(256, activation='relu'),\n",
    "    Dropout(0.5),\n",
    "    Dense(num_classes,  activation='softmax')\n",
    "])\n",
    "model.summary()"
   ]
  },
  {
   "cell_type": "code",
   "execution_count": 7,
   "metadata": {},
   "outputs": [],
   "source": [
    "model.compile(optimizer='Adam', loss='categorical_crossentropy', metrics=['accuracy'])"
   ]
  },
  {
   "cell_type": "code",
   "execution_count": 8,
   "metadata": {},
   "outputs": [
    {
     "name": "stdout",
     "output_type": "stream",
     "text": [
      "Epoch 1/5\n",
      "722/722 - 190s - loss: 0.8472 - accuracy: 0.7469 - val_loss: 0.3346 - val_accuracy: 0.9001\n",
      "Epoch 2/5\n",
      "722/722 - 197s - loss: 0.4186 - accuracy: 0.8709 - val_loss: 0.2487 - val_accuracy: 0.9237\n",
      "Epoch 3/5\n",
      "722/722 - 189s - loss: 0.3420 - accuracy: 0.8939 - val_loss: 0.2224 - val_accuracy: 0.9312\n",
      "Epoch 4/5\n",
      "722/722 - 192s - loss: 0.3029 - accuracy: 0.9050 - val_loss: 0.2085 - val_accuracy: 0.9346\n",
      "Epoch 5/5\n",
      "722/722 - 185s - loss: 0.2782 - accuracy: 0.9114 - val_loss: 0.1968 - val_accuracy: 0.9379\n",
      "Время вычислений: 956.9021937847137\n",
      "Модель сохранена в файле mnistemnist/lk3.h5\n"
     ]
    }
   ],
   "source": [
    "import time \n",
    "start = time.time() \n",
    "history = model.fit(x_train, y_train, batch_size=256, epochs=epochs,\n",
    "                    verbose=2, validation_data=(x_test, y_test))\n",
    "print('Время вычислений:', time.time() - start)\n",
    "print('Модель сохранена в файле', fn_model)\n",
    "model.save(fn_model)"
   ]
  },
  {
   "cell_type": "code",
   "execution_count": 9,
   "metadata": {},
   "outputs": [],
   "source": [
    "history = history.history\n",
    "## for itm in history.items(): print(itm)\n",
    "with open(fn_loss, 'w') as output:\n",
    "    for val in history['loss']: output.write(str(val) + '\\n')\n",
    "with open(fn_acc, 'w') as output:\n",
    "    for val in history['accuracy']: output.write(str(val) + '\\n')\n",
    "with open(fn_val_loss, 'w') as output:\n",
    "    for val in history['val_loss']: output.write(str(val) + '\\n')\n",
    "with open(fn_val_acc, 'w') as output:\n",
    "    for val in history['val_accuracy']: output.write(str(val) + '\\n')"
   ]
  },
  {
   "cell_type": "code",
   "execution_count": 10,
   "metadata": {},
   "outputs": [
    {
     "data": {
      "image/png": "[encoded data removed]",
      "text/plain": [
       "<Figure size 648x288 with 2 Axes>"
      ]
     },
     "metadata": {
      "needs_background": "light"
     },
     "output_type": "display_data"
    }
   ],
   "source": [
    "# Вывод графиков обучения\n",
    "plt.figure(figsize=(9, 4))\n",
    "plt.subplots_adjust(wspace=0.5)\n",
    "one_plot(1, 'Потери', history['loss'], history['val_loss'])\n",
    "one_plot(2, 'Точность', history['accuracy'], history['val_accuracy'])\n",
    "plt.suptitle('Потери и точность')\n",
    "plt.show()"
   ]
  },
  {
   "cell_type": "code",
   "execution_count": 12,
   "metadata": {},
   "outputs": [],
   "source": [
    "pred = model.predict(x_train)\n",
    "predicted_classes = np.array([np.argmax(m) for m in pred])\n",
    "import string\n",
    "letters = list(string.ascii_uppercase)\n",
    "predicted_classes = [letters[m] for m in predicted_classes]\n",
    "l = len(predicted_classes)"
   ]
  },
  {
   "cell_type": "code",
   "execution_count": 13,
   "metadata": {},
   "outputs": [
    {
     "data": {
      "image/png": "[encoded data removed]",
      "text/plain": [
       "<Figure size 864x360 with 15 Axes>"
      ]
     },
     "metadata": {
      "needs_background": "light"
     },
     "output_type": "display_data"
    }
   ],
   "source": [
    "f = plt.figure(figsize=(12, 5))\n",
    "for i in range(15):\n",
    "    j = np.random.randint(0, high=l, dtype=int)\n",
    "    sp = f.add_subplot(1, 15, i+1)\n",
    "    sp.axis('Off')\n",
    "    sp.set_title(predicted_classes[j])\n",
    "    plt.imshow(x_train[j], cmap='gray')\n",
    "plt.show()"
   ]
  },
  {
   "cell_type": "code",
   "execution_count": 11,
   "metadata": {},
   "outputs": [],
   "source": [
    "pred = model.predict(x_test)\n",
    "pred = np.argmax(pred, axis=1)\n",
    "mask = []\n",
    "for i in range(len(pred)): \n",
    "    mask.append(pred[i] == np.argmax(y_test[i]))\n",
    "x_false = []\n",
    "for i in range(len(x_test)):\n",
    "    if not mask[i]:\n",
    "        x_false.append(x_test[i])\n",
    "preds_incorrect = []\n",
    "for i in range(len(x_test)):\n",
    "    if not mask[i]:\n",
    "        preds_incorrect.append(pred[i])\n",
    "y_test_true = []\n",
    "for i in range(len(x_test)):\n",
    "    if not mask[i]:\n",
    "        y_test_true.append(y_test[i])"
   ]
  },
  {
   "cell_type": "code",
   "execution_count": 12,
   "metadata": {},
   "outputs": [
    {
     "name": "stdout",
     "output_type": "stream",
     "text": [
      "[98.3, 98.5, 97.4, 98.3, 98.6, 99.2, 99.1, 99.9, 99.6, 98.9]\n"
     ]
    }
   ],
   "source": [
    "i = 1\n",
    "k = 0\n",
    "acc = []\n",
    "tmp_acc = 0\n",
    "for j in range(10000):\n",
    "    if mask[j]:\n",
    "        tmp_acc += 1\n",
    "    if j == (999 * i) + k:\n",
    "        i += 1\n",
    "        k += 1\n",
    "        acc.append((tmp_acc * 100) / 1000)\n",
    "        tmp_acc = 0\n",
    "print(acc)"
   ]
  },
  {
   "cell_type": "code",
   "execution_count": 13,
   "metadata": {},
   "outputs": [
    {
     "name": "stdout",
     "output_type": "stream",
     "text": [
      "[93.125, 95.375, 97.75, 92.875, 91.125, 96.625, 86.625, 93.75, 85.0, 94.375, 93.25, 64.125, 97.125, 97.25, 98.25, 96.5, 79.125, 95.375, 96.875, 97.75, 90.75, 95.375, 98.625, 95.625, 96.375, 98.5]\n"
     ]
    }
   ],
   "source": [
    "l = len(y_test)\n",
    "i = 1\n",
    "k = 0\n",
    "acc = []\n",
    "tmp_acc = 0\n",
    "for j in range(10000, l):\n",
    "    if mask[j]:\n",
    "        tmp_acc += 1\n",
    "    if j == 10000 + (799 * i) + k:\n",
    "        i += 1\n",
    "        k += 1\n",
    "        acc.append((tmp_acc * 100) / 800)\n",
    "        tmp_acc = 0\n",
    "print(acc)"
   ]
  },
  {
   "cell_type": "code",
   "execution_count": 20,
   "metadata": {},
   "outputs": [
    {
     "data": {
      "image/png": "[encoded data removed]",
      "text/plain": [
       "<Figure size 864x360 with 10 Axes>"
      ]
     },
     "metadata": {
      "needs_background": "light"
     },
     "output_type": "display_data"
    }
   ],
   "source": [
    "import string\n",
    "letters = list(string.ascii_uppercase)\n",
    "l = len(y_test_true)\n",
    "f = plt.figure(figsize=(12,5))\n",
    "for i in range(10):\n",
    "    j = np.random.randint(0, high=l, dtype=int)\n",
    "    sp = f.add_subplot(1,10,i+1)\n",
    "    sp.axis('Off')\n",
    "    sp.set_title(\"{} | {}\".format(letters[preds_incorrect[j]], letters[np.argmax(y_test_true[j])]))\n",
    "    plt.imshow(x_false[j], 'gray')\n",
    "\n",
    "plt.show()"
   ]
  }
 ],
 "metadata": {
  "kernelspec": {
   "display_name": "Python 3",
   "language": "python",
   "name": "python3"
  },
  "language_info": {
   "codemirror_mode": {
    "name": "ipython",
    "version": 3
   },
   "file_extension": ".py",
   "mimetype": "text/x-python",
   "name": "python",
   "nbconvert_exporter": "python",
   "pygments_lexer": "ipython3",
   "version": "3.8.5"
  }
 },
 "nbformat": 4,
 "nbformat_minor": 4
}
