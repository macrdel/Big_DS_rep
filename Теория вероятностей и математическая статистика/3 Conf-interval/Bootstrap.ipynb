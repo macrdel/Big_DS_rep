{
 "cells": [
  {
   "cell_type": "markdown",
   "metadata": {},
   "source": [
    "# Доверительный интервал с помощью bootstrap"
   ]
  },
  {
   "cell_type": "markdown",
   "metadata": {
    "id": "Dkq3-Hobq2TT"
   },
   "source": [
    "Воспользуемся доверительными интервалами, чтобы сделать более точные выводы о метриках модели.\n",
    "\n",
    "Для начала скачаем данные:"
   ]
  },
  {
   "cell_type": "code",
   "execution_count": null,
   "metadata": {
    "id": "w8sKne-9q2TT"
   },
   "outputs": [],
   "source": [
    "from sklearn.datasets import fetch_california_housing\n",
    "X, y = fetch_california_housing(return_X_y=True, as_frame=True)"
   ]
  },
  {
   "cell_type": "markdown",
   "metadata": {
    "id": "Afk5JsbCq2TU"
   },
   "source": [
    "Это задача предсказания средней цены в области на дом. Давайте оценим 95-процентный доверительный интервал на MSE Ridge-регрессии для этой выборки. Будем использовать бутстрэп для этого.\n",
    "\n",
    "Для этого в цикле будем генерировать бутстрэп-выборки для обучения модели (то есть брать объекты из выборки с возвращением). В качестве тестовых объектов будем брать оставшиеся объекты. Каждый раз будем обучать модель и оценивать качество.\n",
    "\n",
    "Реализуйте такой код для 95-процентного доверительного интервала на MSE.\n",
    "\n",
    "Используйте 1000 итераций генераций выборки и обучения модели. Данные не обрабатывайте. Полезными методами будут `np.random.choice` для генерации индексов бутстрэп-выборок (не забудьте про «генерацию с возвращением»), `np.setdiff1d` для получения остатка выборки."
   ]
  },
  {
   "cell_type": "markdown",
   "metadata": {
    "id": "pK2yvMc6q2TU"
   },
   "source": [
    "#### Подключаем необходимые библиотеки"
   ]
  },
  {
   "cell_type": "code",
   "execution_count": null,
   "metadata": {
    "id": "js4MZmtRq2TU"
   },
   "outputs": [],
   "source": [
    "from sklearn.metrics import mean_squared_error\n",
    "from sklearn.linear_model import Ridge\n",
    "import numpy as np"
   ]
  },
  {
   "cell_type": "markdown",
   "metadata": {
    "id": "p09E0yetq2TU"
   },
   "source": [
    "#### Итерации обучения и оценки"
   ]
  },
  {
   "cell_type": "code",
   "execution_count": null,
   "metadata": {
    "id": "Ier3Z_XEq2TV"
   },
   "outputs": [],
   "source": [
    "dataset_size = len(y) # количество объектов рассмотрения\n",
    "index_arr = np.arange(dataset_size) # массив индексов\n",
    "X = X.to_numpy()\n",
    "clf = Ridge() # алгоритм обучения\n",
    "mse_sample = [] # выборка из оценок mse\n",
    "for _ in range(1000):\n",
    "    train_sample = np.random.choice(a=index_arr, size=dataset_size, replace=True) # генерация с возвращением\n",
    "                                                                                  # бутстрапированной\n",
    "                                                                                  # выборки, replace=true по умолчанию\n",
    "    test_sample = np.setdiff1d(index_arr, train_sample)\n",
    "    X_train = X[train_sample]\n",
    "    y_train = y[train_sample]\n",
    "    X_test = X[test_sample]\n",
    "    y_test = y[test_sample]\n",
    "    clf.fit(X_train, y_train)\n",
    "    mse_sample.append(mean_squared_error(y_test, clf.predict(X_test)))"
   ]
  },
  {
   "cell_type": "markdown",
   "metadata": {
    "id": "-GkpIrVwq2TV"
   },
   "source": [
    "#### Оценим 95-процентный интервал для MSE"
   ]
  },
  {
   "cell_type": "markdown",
   "metadata": {
    "id": "JNn7xa28q2TV"
   },
   "source": [
    "Поскольку у нас 1000 оценок, то 26 и 976 оценки отсортированной mse-выборки являются границами доверительного интервала"
   ]
  },
  {
   "cell_type": "code",
   "execution_count": null,
   "metadata": {
    "id": "7CCwjlTWq2TV",
    "outputId": "cce5d55f-495d-47fa-9999-3e9befb5d1a0"
   },
   "outputs": [
    {
     "name": "stdout",
     "output_type": "stream",
     "text": [
      "95-процентный доверительный интервал: (0.5049489171006679, 1.1885259161612942)\n"
     ]
    }
   ],
   "source": [
    "mse_sample_sort = sorted(mse_sample)\n",
    "print(f\"95-процентный доверительный интервал: ({mse_sample_sort[25]}, {mse_sample_sort[975]})\")"
   ]
  }
 ],
 "metadata": {
  "colab": {
   "provenance": []
  },
  "kernelspec": {
   "display_name": "Python 3",
   "language": "python",
   "name": "python3"
  },
  "language_info": {
   "codemirror_mode": {
    "name": "ipython",
    "version": 3
   },
   "file_extension": ".py",
   "mimetype": "text/x-python",
   "name": "python",
   "nbconvert_exporter": "python",
   "pygments_lexer": "ipython3",
   "version": "3.8.5"
  }
 },
 "nbformat": 4,
 "nbformat_minor": 5
}
