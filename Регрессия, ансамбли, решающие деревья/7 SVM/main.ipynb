{
 "cells": [
  {
   "cell_type": "markdown",
   "metadata": {},
   "source": [
    "Используем библиотеку CVXPY для обучения SVM-классификатора с $\\ell_2$-регуляризатором.\n",
    "Имеем выборку $(x_i,y_i)$, $i=1,\\ldots, \\ell$. Объекты выборки $x_i \\in {\\bf R}^7$ (колоски), $y_i \\in \\{\\pm 1\\}$ их бинарные метки.\n",
    "Мы стремимся построить хороший линейный $\\hat y = {\\rm sign}(w^T x - w_0)$.\n",
    "Ищем оптимальные параметры $w,w_0$ минимизируя квадратичный функционал\n",
    "\n",
    "$$\n",
    "Q(w, w_0) = (1/\\ell) \\sum\\limits_{i=1}^\\ell (1 - M_i(w, w_0))_+ + \\lambda \\|w\\|^2 = (1/\\ell) \\sum_i \\left(1 - y_i ( w^T x_i-w_0) \\right)_+ + \\lambda \\| w \\|^2 \n",
    "$$\n",
    "\n",
    "Первым слагаемым стоит средняя hinge-функция потерь. Второе слагаемое уменьшает значения весов $w$.\n",
    "$\\lambda \\geq 0$ $-$ это параметр регуляризации."
   ]
  },
  {
   "cell_type": "code",
   "execution_count": 1,
   "metadata": {},
   "outputs": [],
   "source": [
    "import numpy as np"
   ]
  },
  {
   "cell_type": "markdown",
   "metadata": {},
   "source": [
    "Загрузим наш датасет"
   ]
  },
  {
   "cell_type": "code",
   "execution_count": 2,
   "metadata": {},
   "outputs": [],
   "source": [
    "import pandas as pd\n",
    "target_index = {'Kama': 1, 'Canadian': -1}\n",
    "df = pd.read_csv('train-1.csv')\n",
    "df['Target'] = df['Target'].apply(lambda x: target_index[x])\n",
    "train = df.to_numpy()\n",
    "X, y = train[:, :-1], train[:, -1].reshape(-1, 1)\n",
    "test_df = pd.read_csv('test.csv')\n",
    "test_df['Target'] = test_df['Target'].apply(lambda x: target_index[x])\n",
    "test = test_df.to_numpy()\n",
    "X_test, y_test = test[:, :-1], test[:, -1].reshape(-1, 1)"
   ]
  },
  {
   "cell_type": "code",
   "execution_count": 3,
   "metadata": {},
   "outputs": [],
   "source": [
    "l = len(X)\n",
    "n = X.shape[1]\n",
    "l_test = len(X_test)"
   ]
  },
  {
   "cell_type": "markdown",
   "metadata": {},
   "source": [
    "Сформулируем задачу оптимизации с помощью CVXPY"
   ]
  },
  {
   "cell_type": "code",
   "execution_count": 4,
   "metadata": {},
   "outputs": [
    {
     "name": "stdout",
     "output_type": "stream",
     "text": [
      "Requirement already satisfied: cvxpy in c:\\users\\user\\anaconda3\\lib\\site-packages (1.4.1)\n",
      "Requirement already satisfied: clarabel>=0.5.0 in c:\\users\\user\\anaconda3\\lib\\site-packages (from cvxpy) (0.6.0)\n",
      "Requirement already satisfied: numpy>=1.15 in c:\\users\\user\\anaconda3\\lib\\site-packages (from cvxpy) (1.24.4)\n",
      "Requirement already satisfied: osqp>=0.6.2 in c:\\users\\user\\anaconda3\\lib\\site-packages (from cvxpy) (0.6.3)\n",
      "Requirement already satisfied: scs>=3.0 in c:\\users\\user\\anaconda3\\lib\\site-packages (from cvxpy) (3.2.4.post1)\n",
      "Requirement already satisfied: ecos>=2 in c:\\users\\user\\anaconda3\\lib\\site-packages (from cvxpy) (2.0.12)\n",
      "Requirement already satisfied: pybind11 in c:\\users\\user\\anaconda3\\lib\\site-packages (from cvxpy) (2.11.1)\n",
      "Requirement already satisfied: scipy>=1.1.0 in c:\\users\\user\\anaconda3\\lib\\site-packages (from cvxpy) (1.10.0)\n",
      "Requirement already satisfied: qdldl in c:\\users\\user\\anaconda3\\lib\\site-packages (from osqp>=0.6.2->cvxpy) (0.1.7.post0)\n"
     ]
    }
   ],
   "source": [
    "!pip install cvxpy"
   ]
  },
  {
   "cell_type": "code",
   "execution_count": 5,
   "metadata": {},
   "outputs": [
    {
     "name": "stderr",
     "output_type": "stream",
     "text": [
      "C:\\Users\\user\\anaconda3\\lib\\site-packages\\cvxpy\\expressions\\expression.py:621: UserWarning: \n",
      "This use of ``*`` has resulted in matrix multiplication.\n",
      "Using ``*`` for matrix multiplication has been deprecated since CVXPY 1.1.\n",
      "    Use ``*`` for matrix-scalar and vector-scalar multiplication.\n",
      "    Use ``@`` for matrix-matrix and matrix-vector multiplication.\n",
      "    Use ``multiply`` for elementwise multiplication.\n",
      "This code path has been hit 1 times so far.\n",
      "\n",
      "  warnings.warn(msg, UserWarning)\n"
     ]
    }
   ],
   "source": [
    "import cvxpy as cp\n",
    "w = cp.Variable((n,1))\n",
    "w0 = cp.Variable()\n",
    "loss = cp.sum(cp.pos(1 - cp.multiply(y, X*w - w0)))\n",
    "reg = cp.norm(w, 2)\n",
    "lambd = cp.Parameter(nonneg=True)\n",
    "prob = cp.Problem(cp.Minimize(loss/l + lambd*reg))"
   ]
  },
  {
   "cell_type": "markdown",
   "metadata": {},
   "source": [
    "Решаем оптимизационную задачу для различных $\\lambda$ из диапазона.\n",
    "Наиболее правильным будет выбор $\\lambda$ при котором достигается наименьшие потери на тестовой выборке."
   ]
  },
  {
   "cell_type": "code",
   "execution_count": 6,
   "metadata": {},
   "outputs": [],
   "source": [
    "y = y.reshape(1, -1)\n",
    "y_test = y_test.reshape(1, -1)"
   ]
  },
  {
   "cell_type": "code",
   "execution_count": 7,
   "metadata": {},
   "outputs": [
    {
     "name": "stderr",
     "output_type": "stream",
     "text": [
      "C:\\Users\\user\\anaconda3\\lib\\site-packages\\cvxpy\\reductions\\solvers\\solving_chain.py:336: FutureWarning: \n",
      "    Your problem is being solved with the ECOS solver by default. Starting in \n",
      "    CVXPY 1.5.0, Clarabel will be used as the default solver instead. To continue \n",
      "    using ECOS, specify the ECOS solver explicitly using the ``solver=cp.ECOS`` \n",
      "    argument to the ``problem.solve`` method.\n",
      "    \n",
      "  warnings.warn(ECOS_DEPRECATION_MSG, FutureWarning)\n"
     ]
    }
   ],
   "source": [
    "TRIALS = 100\n",
    "train_error = np.zeros(TRIALS)\n",
    "test_error = np.zeros(TRIALS)\n",
    "lambda_vals = np.logspace(-2, 0, TRIALS)\n",
    "for i in range(TRIALS):\n",
    "    lambd.value = lambda_vals[i]\n",
    "    prob.solve()\n",
    "    train_error[i] = (y != np.sign(X.dot(w.value) - w0.value).reshape(1, -1)).sum()/l\n",
    "    test_error[i] = (y_test != np.sign(X_test.dot(w.value) - w0.value).reshape(1, -1)).sum()/l_test"
   ]
  },
  {
   "cell_type": "code",
   "execution_count": 8,
   "metadata": {},
   "outputs": [
    {
     "data": {
      "image/png": "[encoded data removed]",
      "text/plain": [
       "<Figure size 432x288 with 1 Axes>"
      ]
     },
     "metadata": {
      "needs_background": "light"
     },
     "output_type": "display_data"
    }
   ],
   "source": [
    "import matplotlib.pyplot as plt\n",
    "\n",
    "plt.plot(lambda_vals, train_error, label=\"Train error\")\n",
    "plt.plot(lambda_vals, test_error, label=\"Test error\")\n",
    "plt.xscale('log')\n",
    "plt.legend(loc='upper left')\n",
    "plt.xlabel(r\"$\\lambda$\", fontsize=16)\n",
    "plt.show()"
   ]
  },
  {
   "cell_type": "code",
   "execution_count": 9,
   "metadata": {},
   "outputs": [
    {
     "name": "stdout",
     "output_type": "stream",
     "text": [
      "Optimal lambda is 0.6280291441834256\n"
     ]
    }
   ],
   "source": [
    "opt_lambd = lambda_vals[np.argmin(test_error)]\n",
    "print(f'Optimal lambda is {opt_lambd}')"
   ]
  },
  {
   "cell_type": "code",
   "execution_count": 15,
   "metadata": {},
   "outputs": [
    {
     "data": {
      "text/plain": [
       "0.5838603562288585"
      ]
     },
     "execution_count": 15,
     "metadata": {},
     "output_type": "execute_result"
    }
   ],
   "source": [
    "lambd.value = opt_lambd\n",
    "#lambd.value = 0.01\n",
    "prob.solve()"
   ]
  },
  {
   "cell_type": "code",
   "execution_count": 16,
   "metadata": {},
   "outputs": [],
   "source": [
    "def predict(X, w, w0):\n",
    "    return np.sign(np.dot(X, w) - w0).reshape(1, -1)"
   ]
  },
  {
   "cell_type": "code",
   "execution_count": 17,
   "metadata": {},
   "outputs": [],
   "source": [
    "def accuracy(y_true, y_pred):\n",
    "    return np.mean(y_pred == y_true)"
   ]
  },
  {
   "cell_type": "code",
   "execution_count": 18,
   "metadata": {},
   "outputs": [],
   "source": [
    "y_pred = predict(X_test, w.value, w0.value)"
   ]
  },
  {
   "cell_type": "code",
   "execution_count": 19,
   "metadata": {},
   "outputs": [
    {
     "name": "stdout",
     "output_type": "stream",
     "text": [
      "Accuracy : 0.875\n"
     ]
    }
   ],
   "source": [
    "print(f\"Accuracy : {accuracy(y_test, y_pred)}\")"
   ]
  },
  {
   "cell_type": "code",
   "execution_count": null,
   "metadata": {},
   "outputs": [],
   "source": []
  }
 ],
 "metadata": {
  "kernelspec": {
   "display_name": "Python 3",
   "language": "python",
   "name": "python3"
  },
  "language_info": {
   "codemirror_mode": {
    "name": "ipython",
    "version": 3
   },
   "file_extension": ".py",
   "mimetype": "text/x-python",
   "name": "python",
   "nbconvert_exporter": "python",
   "pygments_lexer": "ipython3",
   "version": "3.8.5"
  }
 },
 "nbformat": 4,
 "nbformat_minor": 4
}
